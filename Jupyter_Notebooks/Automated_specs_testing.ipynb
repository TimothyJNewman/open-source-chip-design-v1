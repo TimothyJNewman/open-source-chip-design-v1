{
  "nbformat": 4,
  "nbformat_minor": 0,
  "metadata": {
    "colab": {
      "provenance": []
    },
    "kernelspec": {
      "name": "python3",
      "display_name": "Python 3"
    },
    "language_info": {
      "name": "python"
    }
  },
  "cells": [
    {
      "cell_type": "markdown",
      "source": [
        "# Automatic testing of specs files\n",
        "Parses through the text output of the circuit specifications and determines if its within a predefined range"
      ],
      "metadata": {
        "id": "8iUSxMtclziy"
      }
    },
    {
      "cell_type": "code",
      "source": [
        "import os\n",
        "import re\n",
        "import pandas as pd"
      ],
      "metadata": {
        "id": "CdxYutd9l6QB"
      },
      "execution_count": null,
      "outputs": []
    },
    {
      "cell_type": "code",
      "execution_count": null,
      "metadata": {
        "id": "8t2L8T7plnZE"
      },
      "outputs": [],
      "source": [
        "# Setting path of the document\n",
        "filename = \"sample_specs.txt\"\n",
        "filename_range = \"sample_specs_range.txt\"\n",
        "specs_folder = \"opamp_specs\"\n",
        "output_log = \"Test_output_log.txt\""
      ]
    },
    {
      "cell_type": "code",
      "source": [
        "def register_ranges(path_file_range):\n",
        "\n",
        "  range_dict = {}\n",
        "\n",
        "  # Opens specs_range file and places max and min into a dictionary\n",
        "  with open(path_file_range, \"r\") as file:\n",
        "    for line in file:\n",
        "      # Regex to find numbers after '='\n",
        "      match_number_max = re.search(r\"=\\s*(-?\\d+(\\.\\d+)?([eE][+-]?\\d+)?)\", line)\n",
        "      match_number_min = re.search(r\":\\s*(-?\\d+(\\.\\d+)?([eE][+-]?\\d+)?)\", line)\n",
        "\n",
        "      match_spec_property = re.search(r\"([^\\s=]+)\\s*=\", line)\n",
        "\n",
        "      if match_spec_property:\n",
        "          spec_property = match_spec_property.group(1)\n",
        "          #print(f\"spec property: {spec_property}\")\n",
        "\n",
        "      if match_number_max:\n",
        "          scientific_number_max = match_number_max.group(1)  # Extract the matched number (its common name to hold reg expressions)\n",
        "          float_number_max = float(scientific_number_max)\n",
        "\n",
        "      if match_number_min:\n",
        "          scientific_number_min = match_number_min.group(1)  # Extract the matched number (its common name to hold reg expressions)\n",
        "          float_number_min = float(scientific_number_min)\n",
        "\n",
        "      #print(f\"spec = {spec_property}  max: {float_number_max} min: {float_number_min}\")\n",
        "\n",
        "      range_dict[f\"{spec_property}\"] = [float_number_max, float_number_min]\n",
        "\n",
        "      #print(range_dict[\"slew_rate\"][0])\n",
        "\n",
        "    return range_dict"
      ],
      "metadata": {
        "id": "-2Hv07Vb1RVJ"
      },
      "execution_count": null,
      "outputs": []
    },
    {
      "cell_type": "code",
      "source": [
        "def test_specs_file(path_file, range_dict):\n",
        "\n",
        "  results_dict = {}\n",
        "\n",
        "  with open(path_file, \"r\") as file:\n",
        "    for line in file:\n",
        "\n",
        "      # Regex to find numbers after '='\n",
        "      match_number = re.search(r\"=\\s*(-?\\d\\.?\\d+[Ee][+\\-]\\d\\d?)\", line)\n",
        "      match_spec_property = re.search(r\"([^\\s=]+)\\s*=\", line)\n",
        "\n",
        "      if match_spec_property:\n",
        "        spec_property = match_spec_property.group(1)\n",
        "        #print(f\"spec property: {spec_property}\")\n",
        "\n",
        "      if match_number:\n",
        "        scientific_number = match_number.group(1)  # Extract the matched number (its common name to hold reg expressions)\n",
        "        #print(f\"Found number: {scientific_number}\")\n",
        "        float_number = float(scientific_number)\n",
        "        #print(f\"Found number float = {float_number}\")\n",
        "\n",
        "      # Printing logs\n",
        "      #print(f\"{spec_property} = {float_number} \")\n",
        "      if range_dict[spec_property][1]<= float_number <= range_dict[spec_property][0]:\n",
        "        #print(f\"Spec {spec_property} = Passed\")\n",
        "        results_dict[spec_property] = 1\n",
        "\n",
        "      else:\n",
        "        #print(f\"Spec {spec_property} = Failed\")\n",
        "        results_dict[spec_property] = 0\n",
        "\n",
        "  return results_dict"
      ],
      "metadata": {
        "id": "oqQrc6LenfqE"
      },
      "execution_count": null,
      "outputs": []
    },
    {
      "cell_type": "code",
      "source": [
        "range_dict = register_ranges(path_file_range=filename_range)"
      ],
      "metadata": {
        "id": "jqf0kFO43BdB"
      },
      "execution_count": null,
      "outputs": []
    },
    {
      "cell_type": "code",
      "source": [
        "results_dict_list = []\n",
        "\n",
        "# Iterate over files in directory\n",
        "for filename in os.listdir(specs_folder):\n",
        "    results_dict = test_specs_file(os.path.join(specs_folder, filename), range_dict)\n",
        "    results_dict_list.append(results_dict)\n",
        "\n",
        "results_df = pd.DataFrame(results_dict_list)\n",
        "print(results_df)"
      ],
      "metadata": {
        "colab": {
          "base_uri": "https://localhost:8080/"
        },
        "id": "r1ZHUWlA3F_Z",
        "outputId": "c907f8ca-6c6c-462d-bf77-783a68e4454b"
      },
      "execution_count": null,
      "outputs": [
        {
          "output_type": "stream",
          "name": "stdout",
          "text": [
            "    slew_rate  power_average  aol_dc_db  bw3db  ugbw  gain_margin  \\\n",
            "0           0              0          0      0     0            0   \n",
            "1           0              1          0      1     0            0   \n",
            "2           0              1          0      1     0            0   \n",
            "3           0              0          0      0     0            0   \n",
            "4           0              0          0      0     0            0   \n",
            "5           0              0          0      0     0            0   \n",
            "6           0              0          0      0     0            0   \n",
            "7           0              1          0      0     0            0   \n",
            "8           0              0          0      0     0            0   \n",
            "9           0              1          0      1     0            0   \n",
            "10          0              1          0      1     0            0   \n",
            "11          0              0          0      0     0            0   \n",
            "12          0              1          0      1     0            0   \n",
            "13          0              0          0      0     0            0   \n",
            "14          0              0          0      0     0            0   \n",
            "15          0              1          0      1     0            0   \n",
            "16          0              0          0      0     0            0   \n",
            "17          0              0          0      0     0            0   \n",
            "18          0              1          0      0     0            0   \n",
            "19          0              0          0      0     0            0   \n",
            "20          0              1          0      0     0            0   \n",
            "21          0              1          0      0     0            0   \n",
            "22          0              1          0      1     0            0   \n",
            "23          0              0          0      0     0            0   \n",
            "24          0              1          0      1     0            0   \n",
            "25          0              1          0      0     0            0   \n",
            "26          0              1          0      1     0            0   \n",
            "27          0              0          0      0     0            0   \n",
            "28          0              1          0      0     0            0   \n",
            "29          0              1          0      1     0            0   \n",
            "30          0              1          0      0     0            0   \n",
            "31          0              1          0      1     0            0   \n",
            "32          0              0          0      0     0            0   \n",
            "33          0              0          0      0     0            0   \n",
            "34          0              1          0      1     0            0   \n",
            "35          0              0          0      0     0            0   \n",
            "36          0              1          0      1     0            0   \n",
            "37          0              1          0      1     0            0   \n",
            "38          0              0          0      0     0            0   \n",
            "39          0              1          0      1     0            0   \n",
            "40          0              0          0      0     0            1   \n",
            "\n",
            "    phase_margin  \n",
            "0              0  \n",
            "1              0  \n",
            "2              0  \n",
            "3              0  \n",
            "4              0  \n",
            "5              0  \n",
            "6              0  \n",
            "7              0  \n",
            "8              0  \n",
            "9              0  \n",
            "10             0  \n",
            "11             0  \n",
            "12             0  \n",
            "13             0  \n",
            "14             0  \n",
            "15             0  \n",
            "16             0  \n",
            "17             0  \n",
            "18             0  \n",
            "19             0  \n",
            "20             0  \n",
            "21             0  \n",
            "22             0  \n",
            "23             0  \n",
            "24             0  \n",
            "25             0  \n",
            "26             0  \n",
            "27             0  \n",
            "28             0  \n",
            "29             0  \n",
            "30             0  \n",
            "31             0  \n",
            "32             0  \n",
            "33             0  \n",
            "34             0  \n",
            "35             0  \n",
            "36             0  \n",
            "37             0  \n",
            "38             0  \n",
            "39             0  \n",
            "40             0  \n"
          ]
        }
      ]
    },
    {
      "cell_type": "code",
      "source": [],
      "metadata": {
        "id": "VE9V4Y6R7ZwE"
      },
      "execution_count": null,
      "outputs": []
    }
  ]
}