{
  "cells": [
    {
      "cell_type": "markdown",
      "metadata": {
        "id": "qAteluC1JJF-"
      },
      "source": [
        "# Open-Source Implementation of IEEE P2427 Defect Coverage Standard\n",
        "\n",
        "This Jupyter notebook details a prototype implementation of the [IEEE P2427 Draft Standard for Analog Defect Modeling and Coverage](https://standards.ieee.org/ieee/2427/7233/) using open source tools and the open source [Skywater 130A PDK](https://github.com/google/skywater-pdk).\n",
        "\n",
        "It involves the following process:\n",
        "\n",
        "1. A sample circuit is created and netlisted.\n",
        "1.   Devices and nodes are in the netlist are parsed using a script.\n",
        "2.   Defects are added into the netlist. These are modelled as large parameter changes, shorts or opens.\n",
        "3.   The netlist is simulated and performance parameters are measured. If the performance parameters fall outside of the expected range, they are classified as failures.\n",
        "4. Defect coverage is determined based in the percentage of defects detected by the tests."
      ]
    },
    {
      "cell_type": "markdown",
      "metadata": {
        "id": "w4qdBSkHKfFp"
      },
      "source": [
        "## Setting up of Open Source Tools\n",
        "\n",
        "NGspice and Skywater 130A PDK are installed using micromamba.\n",
        "\n",
        "This is largely based on the example at https://github.com/sscs-ose/sscs-ose-code-a-chip.github.io/blob/main/FAQ.md"
      ]
    },
    {
      "cell_type": "code",
      "execution_count": 58,
      "metadata": {
        "id": "ergg8MtZUKvi"
      },
      "outputs": [],
      "source": [
        "# Import modules\n",
        "import os\n",
        "import pathlib\n",
        "import sys\n",
        "import re\n",
        "import pandas as pd"
      ]
    },
    {
      "cell_type": "code",
      "execution_count": 59,
      "metadata": {
        "colab": {
          "base_uri": "https://localhost:8080/"
        },
        "id": "hpQ-LwCtKcNg",
        "outputId": "85a25a13-1adf-41a3-e9bd-7412dacc3ce5"
      },
      "outputs": [
        {
          "output_type": "stream",
          "name": "stdout",
          "text": [
            "\u001b[31mERROR: Operation cancelled by user\u001b[0m\u001b[31m\n",
            "^C\n",
            "^C\n",
            "bin/micromamba\n",
            "env: CONDA_PREFIX=/content/conda-env\n",
            "env: PATH=/content/conda-env/bin:/content/conda-env/bin:/opt/bin:/usr/local/nvidia/bin:/usr/local/cuda/bin:/usr/local/sbin:/usr/local/bin:/usr/sbin:/usr/bin:/sbin:/bin:/tools/node/bin:/tools/google-cloud-sdk/bin\n",
            "env: LD_LIBRARY_PATH=/content/conda-env/lib:/content/conda-env/lib:/usr/local/nvidia/lib:/usr/local/nvidia/lib64\n",
            "Empty environment created at prefix: /content/conda-env\n",
            "\u001b[?25l\u001b[2K\u001b[0G\u001b[?25h\u001b[?25l\u001b[2K\u001b[0G[+] 0.0s\n",
            "\u001b[2K\u001b[1A\u001b[2K\u001b[0G[+] 0.1s\n",
            "litex-hub/linux-64  ⣾  \n",
            "litex-hub/noarch    ⣾  \n",
            "main/linux-64       ⣾  \n",
            "main/noarch         ⣾  \u001b[2K\u001b[1A\u001b[2K\u001b[1A\u001b[2K\u001b[1A\u001b[2K\u001b[1A\u001b[2K\u001b[0G[+] 0.2s\n",
            "litex-hub/linux-64  ⣾  \n",
            "litex-hub/noarch    ⣾  \n",
            "main/linux-64       ⣾  \n",
            "main/noarch         ⣾  \u001b[2K\u001b[1A\u001b[2K\u001b[1A\u001b[2K\u001b[1A\u001b[2K\u001b[1A\u001b[2K\u001b[0G[+] 0.3s\n",
            "litex-hub/linux-64  ⣾  \n",
            "litex-hub/noarch    ⣾  \n",
            "main/linux-64       ⣾  \n",
            "main/noarch         ⣾  \u001b[2K\u001b[1A\u001b[2K\u001b[1A\u001b[2K\u001b[1A\u001b[2K\u001b[1A\u001b[2K\u001b[0G[+] 0.4s\n",
            "litex-hub/linux-64  ⣾  \n",
            "litex-hub/noarch    ⣾  \u001b[2K\u001b[1A\u001b[2K\u001b[1A\u001b[2K\u001b[0G[+] 0.5s\n",
            "litex-hub/linux-64  ⣾  \n",
            "litex-hub/noarch    ⣾  \u001b[2K\u001b[1A\u001b[2K\u001b[1A\u001b[2K\u001b[0G[+] 0.6s\n",
            "litex-hub/noarch  ⣾  \u001b[2K\u001b[1A\u001b[2K\u001b[0G[+] 0.7s\n",
            "litex-hub/noarch  ⣾  \u001b[2K\u001b[1A\u001b[2K\u001b[0G\u001b[?25h\n",
            "Pinned packages:\n",
            "\n",
            "  - python==3.7*\n",
            "\n",
            "\n",
            "Transaction\n",
            "\n",
            "  Prefix: /content/conda-env\n",
            "\n",
            "  Updating specs:\n",
            "\n",
            "   - open_pdks.sky130a\n",
            "\n",
            "\n",
            "  Package                         Version  Build            Channel         Size\n",
            "──────────────────────────────────────────────────────────────────────────────────\n",
            "  Install:\n",
            "──────────────────────────────────────────────────────────────────────────────────\n",
            "\n",
            "  \u001b[32m+ open_pdks.sky130a\u001b[0m  1.0.471_0_g97d0844  20240223_100318  litex-hub\u001b[32m     Cached\u001b[0m\n",
            "\n",
            "  Summary:\n",
            "\n",
            "  Install: 1 packages\n",
            "\n",
            "  Total download: 0 B\n",
            "\n",
            "──────────────────────────────────────────────────────────────────────────────────\n",
            "\n",
            "\n",
            "\n",
            "Transaction starting\n",
            "\u001b[?25l\u001b[2K\u001b[0G[+] 0.0s\n",
            "\u001b[2K\u001b[1A\u001b[2K\u001b[0G\u001b[?25hLinking open_pdks.sky130a-1.0.471_0_g97d0844-20240223_100318\n",
            "\n",
            "Transaction finished\n",
            "\n",
            "\u001b[?25l\u001b[2K\u001b[0G\u001b[?25h\u001b[?25l\u001b[2K\u001b[0G[+] 0.0s\n",
            "\u001b[2K\u001b[1A\u001b[2K\u001b[0G[+] 0.1s\n",
            "conda-forge/linux-64  ⣾  \n",
            "conda-forge/noarch    ⣾  \u001b[2K\u001b[1A\u001b[2K\u001b[1A\u001b[2K\u001b[0G[+] 0.2s\n",
            "conda-forge/linux-64   1%\n",
            "conda-forge/noarch     1%\u001b[2K\u001b[1A\u001b[2K\u001b[1A\u001b[2K\u001b[0G[+] 0.3s\n",
            "conda-forge/linux-64   8%\n",
            "conda-forge/noarch    18%\u001b[2K\u001b[1A\u001b[2K\u001b[1A\u001b[2K\u001b[0G[+] 0.4s\n",
            "conda-forge/linux-64  17%\n",
            "conda-forge/noarch    38%\u001b[2K\u001b[1A\u001b[2K\u001b[1A\u001b[2K\u001b[0G[+] 0.5s\n",
            "conda-forge/linux-64  22%\n",
            "conda-forge/noarch    49%\u001b[2K\u001b[1A\u001b[2K\u001b[1A\u001b[2K\u001b[0G[+] 0.6s\n",
            "conda-forge/linux-64  24%\n",
            "conda-forge/noarch    55%\u001b[2K\u001b[1A\u001b[2K\u001b[1A\u001b[2K\u001b[0G[+] 0.7s\n",
            "conda-forge/linux-64  28%\n",
            "conda-forge/noarch    62%\u001b[2K\u001b[1A\u001b[2K\u001b[1A\u001b[2K\u001b[0G[+] 0.8s\n",
            "conda-forge/linux-64  31%\n",
            "conda-forge/noarch    68%\u001b[2K\u001b[1A\u001b[2K\u001b[1A\u001b[2K\u001b[0G[+] 0.9s\n",
            "conda-forge/linux-64  32%\n",
            "conda-forge/noarch    72%\u001b[2K\u001b[1A\u001b[2K\u001b[1A\u001b[2K\u001b[0G[+] 1.0s\n",
            "conda-forge/linux-64  36%\n",
            "conda-forge/noarch    80%\u001b[2K\u001b[1A\u001b[2K\u001b[1A\u001b[2K\u001b[0G[+] 1.1s\n",
            "conda-forge/linux-64  40%\n",
            "conda-forge/noarch    88%\u001b[2K\u001b[1A\u001b[2K\u001b[1A\u001b[2K\u001b[0G[+] 1.2s\n",
            "conda-forge/linux-64  41%\n",
            "conda-forge/noarch    96%\u001b[2K\u001b[1A\u001b[2K\u001b[1A\u001b[2K\u001b[0Gconda-forge/noarch                                \n",
            "[+] 1.3s\n",
            "conda-forge/linux-64  45%\u001b[2K\u001b[1A\u001b[2K\u001b[0G[+] 1.4s\n",
            "conda-forge/linux-64  45%\u001b[2K\u001b[1A\u001b[2K\u001b[0G[+] 1.5s\n",
            "conda-forge/linux-64  54%\u001b[2K\u001b[1A\u001b[2K\u001b[0G[+] 1.6s\n",
            "conda-forge/linux-64  63%\u001b[2K\u001b[1A\u001b[2K\u001b[0G[+] 1.7s\n",
            "conda-forge/linux-64  71%\u001b[2K\u001b[1A\u001b[2K\u001b[0G[+] 1.8s\n",
            "conda-forge/linux-64  81%\u001b[2K\u001b[1A\u001b[2K\u001b[0G[+] 1.9s\n",
            "conda-forge/linux-64  84%\u001b[2K\u001b[1A\u001b[2K\u001b[0G[+] 2.0s\n",
            "conda-forge/linux-64  90%\u001b[2K\u001b[1A\u001b[2K\u001b[0G[+] 2.1s\n",
            "conda-forge/linux-64  97%\u001b[2K\u001b[1A\u001b[2K\u001b[0G[+] 2.2s\n",
            "conda-forge/linux-64 100%\u001b[2K\u001b[1A\u001b[2K\u001b[0G[+] 2.3s\n",
            "conda-forge/linux-64 100%\u001b[2K\u001b[1A\u001b[2K\u001b[0Gconda-forge/linux-64                              \n",
            "\u001b[?25h^C\n",
            "env: PDK=sky130A\n"
          ]
        }
      ],
      "source": [
        "!pip install matplotlib pandas pyinstaller\n",
        "!apt-get install -y ruby-full time build-essential\n",
        "!apt install -f libqt4-designer libqt4-xml libqt4-sql libqt4-network libqtcore4 libqtgui4\n",
        "!curl -Ls https://micro.mamba.pm/api/micromamba/linux-64/latest | tar -xvj bin/micromamba\n",
        "conda_prefix_path = pathlib.Path('conda-env')\n",
        "site_package_path = conda_prefix_path / 'lib/python3.7/site-packages'\n",
        "sys.path.append(str(site_package_path.resolve()))\n",
        "CONDA_PREFIX = str(conda_prefix_path.resolve())\n",
        "PATH = os.environ['PATH']\n",
        "LD_LIBRARY_PATH = os.environ.get('LD_LIBRARY_PATH', '')\n",
        "%env CONDA_PREFIX={CONDA_PREFIX}\n",
        "%env PATH={CONDA_PREFIX}/bin:{PATH}\n",
        "%env LD_LIBRARY_PATH={CONDA_PREFIX}/lib:{LD_LIBRARY_PATH}\n",
        "!bin/micromamba create --yes --prefix $CONDA_PREFIX\n",
        "!echo 'python ==3.7*' >> {CONDA_PREFIX}/conda-meta/pinned\n",
        "!bin/micromamba install --yes --prefix $CONDA_PREFIX \\\n",
        "                        --channel litex-hub \\\n",
        "                        --channel main \\\n",
        "                        open_pdks.sky130a \\\n",
        "                        #magic \\\n",
        "                        #netgen \\\n",
        "                        #openroad \\\n",
        "                        #yosys\n",
        "!bin/micromamba install --yes --prefix $CONDA_PREFIX \\\n",
        "                        --channel conda-forge \\\n",
        "                        tcllib gdstk pyyaml click svgutils ngspice\n",
        "%env PDK=sky130A"
      ]
    },
    {
      "cell_type": "markdown",
      "metadata": {
        "id": "3Rb6QWz2LOBu"
      },
      "source": [
        "## Example SPICE Netlist\n",
        "\n",
        "In this demonstration, a testbench is created to test a 5 transistor OpAmp.\n",
        "\n",
        "Schematic capture was done in XSchem and a netlist was generated. Transient and AC simulations and performance parameters were included in the NGspice directive. The performance parameters are as follows:\n",
        "\n",
        "* **slew_rate**: Slew rate of the OpAmp as measured by the output voltage rise from 10% to 90% of the maximum power supply voltage.\n",
        "* **power_average**: Average power consumption over time.\n",
        "* **aol_dc_db**: Open loop small signal gain measured at 10Hz.\n",
        "* **bw3db**: Bandwidth of OpAmp small signal gain measured at 3dB below aol_dc_db.\n",
        "* **ugbw**: Unity gain bandwidth is the frequency at 0dB small signal gain.\n",
        "* **gain_margin**: Gain margin is defined as the magnitude of small signal gain at -180deg gain phase.\n",
        "* **phase_margin**: Phase margin is defined as the difference between small signal gain phase and -180 phase at 0dB small signal gain magnitude."
      ]
    },
    {
      "cell_type": "markdown",
      "source": [
        "*TODO: Add diagram of opamp and testbench*"
      ],
      "metadata": {
        "id": "zMZTg5esHyag"
      }
    },
    {
      "cell_type": "code",
      "execution_count": 60,
      "metadata": {
        "colab": {
          "base_uri": "https://localhost:8080/"
        },
        "id": "nnGPI5zaLM9j",
        "outputId": "fbf54b0c-eb43-450f-caa3-6d76916a6e48"
      },
      "outputs": [
        {
          "output_type": "stream",
          "name": "stdout",
          "text": [
            "--2024-12-01 23:04:25--  https://raw.githubusercontent.com/TimothyJNewman/open-source-chip-design-v1/refs/heads/main/ISSCC_2025_V1/netlist/test_analog.spice\n",
            "Resolving raw.githubusercontent.com (raw.githubusercontent.com)... 185.199.108.133, 185.199.109.133, 185.199.110.133, ...\n",
            "Connecting to raw.githubusercontent.com (raw.githubusercontent.com)|185.199.108.133|:443... connected.\n",
            "HTTP request sent, awaiting response... 200 OK\n",
            "Length: 5441 (5.3K) [text/plain]\n",
            "Saving to: ‘test_netlist.spice’\n",
            "\n",
            "test_netlist.spice  100%[===================>]   5.31K  --.-KB/s    in 0s      \n",
            "\n",
            "2024-12-01 23:04:25 (51.1 MB/s) - ‘test_netlist.spice’ saved [5441/5441]\n",
            "\n",
            "mkdir: cannot create directory ‘generated_netlists’: File exists\n"
          ]
        }
      ],
      "source": [
        "# Download SPICE netlist from github\n",
        "spice_netlist_url = f\"https://raw.githubusercontent.com/TimothyJNewman/open-source-chip-design-v1/refs/heads/main/ISSCC_2025_V1/netlist/test_analog.spice\"\n",
        "spice_netlist_filename = \"test_netlist\"\n",
        "!wget {spice_netlist_url} -O {spice_netlist_filename}.spice\n",
        "!mkdir generated_netlists"
      ]
    },
    {
      "cell_type": "code",
      "execution_count": 61,
      "metadata": {
        "colab": {
          "base_uri": "https://localhost:8080/"
        },
        "id": "fxrfS-QgLDnf",
        "outputId": "293f2fed-e45c-481d-b446-1e27660b4759"
      },
      "outputs": [
        {
          "output_type": "stream",
          "name": "stdout",
          "text": [
            "** sch_path: /home/timothyjabez/Documents/Open_Source_Circuit_Design/open-source-chip-design-v1/ISSCC_2025_V1/xschem/Benchmark_Circuits/test_analog/test_analog.sch\n",
            "**.subckt test_analog\n",
            "V6 vin_p GND 0.9 dc 0.9 ac 1 pulse(0 1 100p 100p 100p 1u 2u)\n",
            "V7 vin_n GND 0.9\n",
            "V8 VDD GND 1.8\n",
            "V9 VSS GND 0\n",
            "I0 VSS i_bias 10u\n",
            "V1 net1 GND 1.8\n",
            "C1 vout GND 1p m=1\n",
            "x1 VDD vout vin_p vin_n VSS i_bias en OpAmp\n",
            "R_en_source_res en net1 1k m=1\n",
            "**** begin user architecture code\n",
            ".lib /usr/local/share/pdk/sky130B/libs.tech/combined/sky130.lib.spice tt\n",
            "**** end user architecture code\n",
            "**.ends\n",
            "\n",
            "* expanding   symbol:  Benchmark_Circuits/OpAmp/OpAmp.sym # of pins=7\n",
            "** sym_path: /home/timothyjabez/Documents/Open_Source_Circuit_Design/open-source-chip-design-v1/ISSCC_2025_V1/xschem/Benchmark_Circuits/OpAmp/OpAmp.sym\n",
            "** sch_path: /home/timothyjabez/Documents/Open_Source_Circuit_Design/open-source-chip-design-v1/ISSCC_2025_V1/xschem/Benchmark_Circuits/OpAmp/OpAmp.sch\n",
            ".subckt OpAmp VDD vout vin_p vin_n VSS i_bias en\n",
            "*.ipin vin_p\n",
            "*.ipin vin_n\n",
            "*.iopin VSS\n",
            "*.iopin VDD\n",
            "*.opin vout\n",
            "*.ipin i_bias\n",
            "*.ipin en\n",
            "XM1 vout net2 VDD VDD sky130_fd_pr__pfet_01v8 L=1 W=8 nf=2 ad='int((nf+1)/2) * W/nf * 0.29' as='int((nf+2)/2) * W/nf * 0.29' pd='2*int((nf+1)/2) * (W/nf + 0.29)'\n",
            "+ ps='2*int((nf+2)/2) * (W/nf + 0.29)' nrd='0.29 / W' nrs='0.29 / W' sa=0 sb=0 sd=0 mult=1 m=1\n",
            "XM2 net2 net2 VDD VDD sky130_fd_pr__pfet_01v8 L=1 W=8 nf=2 ad='int((nf+1)/2) * W/nf * 0.29' as='int((nf+2)/2) * W/nf * 0.29' pd='2*int((nf+1)/2) * (W/nf + 0.29)'\n",
            "+ ps='2*int((nf+2)/2) * (W/nf + 0.29)' nrd='0.29 / W' nrs='0.29 / W' sa=0 sb=0 sd=0 mult=1 m=1\n",
            "XM3 net2 vin_p net1 VSS sky130_fd_pr__nfet_01v8 L=0.5 W=16 nf=4 ad='int((nf+1)/2) * W/nf * 0.29' as='int((nf+2)/2) * W/nf * 0.29' pd='2*int((nf+1)/2) * (W/nf + 0.29)'\n",
            "+ ps='2*int((nf+2)/2) * (W/nf + 0.29)' nrd='0.29 / W' nrs='0.29 / W' sa=0 sb=0 sd=0 mult=1 m=1\n",
            "XM4 vout vin_n net1 VSS sky130_fd_pr__nfet_01v8 L=0.5 W=16 nf=4 ad='int((nf+1)/2) * W/nf * 0.29' as='int((nf+2)/2) * W/nf * 0.29' pd='2*int((nf+1)/2) * (W/nf + 0.29)'\n",
            "+ ps='2*int((nf+2)/2) * (W/nf + 0.29)' nrd='0.29 / W' nrs='0.29 / W' sa=0 sb=0 sd=0 mult=1 m=1\n",
            "XM5 net1 net3 VSS VSS sky130_fd_pr__nfet_01v8 L=1 W=8 nf=2 ad='int((nf+1)/2) * W/nf * 0.29' as='int((nf+2)/2) * W/nf * 0.29' pd='2*int((nf+1)/2) * (W/nf + 0.29)'\n",
            "+ ps='2*int((nf+2)/2) * (W/nf + 0.29)' nrd='0.29 / W' nrs='0.29 / W' sa=0 sb=0 sd=0 mult=2 m=2\n",
            "XM6 i_bias net3 VSS VSS sky130_fd_pr__nfet_01v8 L=1 W=8 nf=2 ad='int((nf+1)/2) * W/nf * 0.29' as='int((nf+2)/2) * W/nf * 0.29' pd='2*int((nf+1)/2) * (W/nf + 0.29)'\n",
            "+ ps='2*int((nf+2)/2) * (W/nf + 0.29)' nrd='0.29 / W' nrs='0.29 / W' sa=0 sb=0 sd=0 mult=1 m=1\n",
            "XM9 en_n en VDD VDD sky130_fd_pr__pfet_01v8 L=0.15 W=2 nf=1 ad='int((nf+1)/2) * W/nf * 0.29' as='int((nf+2)/2) * W/nf * 0.29' pd='2*int((nf+1)/2) * (W/nf + 0.29)'\n",
            "+ ps='2*int((nf+2)/2) * (W/nf + 0.29)' nrd='0.29 / W' nrs='0.29 / W' sa=0 sb=0 sd=0 mult=1 m=1\n",
            "XM10 en_n en VSS VSS sky130_fd_pr__nfet_01v8 L=0.15 W=1 nf=1 ad='int((nf+1)/2) * W/nf * 0.29' as='int((nf+2)/2) * W/nf * 0.29' pd='2*int((nf+1)/2) * (W/nf + 0.29)'\n",
            "+ ps='2*int((nf+2)/2) * (W/nf + 0.29)' nrd='0.29 / W' nrs='0.29 / W' sa=0 sb=0 sd=0 mult=1 m=1\n",
            "XM7 i_bias en net3 VSS sky130_fd_pr__nfet_01v8 L=0.35 W=4 nf=2 ad='int((nf+1)/2) * W/nf * 0.29' as='int((nf+2)/2) * W/nf * 0.29' pd='2*int((nf+1)/2) * (W/nf + 0.29)'\n",
            "+ ps='2*int((nf+2)/2) * (W/nf + 0.29)' nrd='0.29 / W' nrs='0.29 / W' sa=0 sb=0 sd=0 mult=1 m=1\n",
            "XM8 net3 en_n VSS VSS sky130_fd_pr__nfet_01v8 L=0.35 W=4 nf=2 ad='int((nf+1)/2) * W/nf * 0.29' as='int((nf+2)/2) * W/nf * 0.29' pd='2*int((nf+1)/2) * (W/nf + 0.29)'\n",
            "+ ps='2*int((nf+2)/2) * (W/nf + 0.29)' nrd='0.29 / W' nrs='0.29 / W' sa=0 sb=0 sd=0 mult=1 m=1\n",
            "XM11 net2 en VDD VDD sky130_fd_pr__pfet_01v8 L=0.35 W=4 nf=2 ad='int((nf+1)/2) * W/nf * 0.29' as='int((nf+2)/2) * W/nf * 0.29' pd='2*int((nf+1)/2) * (W/nf + 0.29)'\n",
            "+ ps='2*int((nf+2)/2) * (W/nf + 0.29)' nrd='0.29 / W' nrs='0.29 / W' sa=0 sb=0 sd=0 mult=1 m=1\n",
            "* J1 ?1 j1 ?1 j2\n",
            ".ends\n",
            "\n",
            ".GLOBAL GND\n",
            "**** begin user architecture code\n",
            "\n",
            "\n",
            "\n",
            "\n",
            "* ngspice commands\n",
            ".options savecurrents\n",
            "\n",
            ".control\n",
            "save all\n",
            "\n",
            "op\n",
            "remzerovec\n",
            "\n",
            "tran 100n 10u\n",
            "plot v(vout)\n",
            "\n",
            "let trise_pulse = 999\n",
            "meas tran trise_pulse TRIG v(vout) VAL=0.1*1.8 RISE=1 TARG v(vout) VAL=0.9*1.8 RISE=1\n",
            "let slew_rate = 0.8*1.8/trise_pulse\n",
            "print slew_rate > ./specs/opamp_specs.txt\n",
            "let power_consumption = -@V8[i]*v(VDD)\n",
            "meas tran power_average AVG power_consumption from=0u to=10u\n",
            "print power_average >> ./specs/opamp_specs.txt\n",
            ";write top_level.out\n",
            "\n",
            "set appendwrite\n",
            "set units=degrees\n",
            "dc V6 0 1.8 0.01\n",
            "remzerovec\n",
            ";write top_level.out\n",
            "\n",
            "ac dec 10 1 1e12\n",
            "let gain = v(vout)/(v(vin_p)-v(vin_n))\n",
            "\n",
            "; Measurement of OpAmp performance parameters\n",
            "let AOL_DC_dB = 0\n",
            "meas ac AOL_DC_dB FIND vdb(gain) AT=10\n",
            "print AOL_DC_dB >> ./specs/opamp_specs.txt\n",
            "let gain_3dB = AOL_DC_dB-3\n",
            "print gain_3dB\n",
            "let BW3dB = 0\n",
            "meas ac BW3dB when vdb(gain) = gain_3dB\n",
            "print BW3dB >> ./specs/opamp_specs.txt\n",
            "let UGBW = 0\n",
            "meas ac UGBW when vdb(gain) = 1\n",
            "print UGBW >> ./specs/opamp_specs.txt\n",
            "let Phase_Unity_Gain = -999\n",
            "meas ac Phase_Unity_Gain FIND vp(gain) AT=UGBW\n",
            "meas ac Zero_PM_Freq when vp(gain)=-175\n",
            "let Gain_Margin = 999\n",
            "meas ac Gain_Margin FIND vdb(gain) at=Zero_PM_Freq\n",
            "print Gain_margin >> ./specs/opamp_specs.txt\n",
            "let Phase_Margin = 180+Phase_Unity_Gain\n",
            "print Phase_Margin >> ./specs/opamp_specs.txt\n",
            "\n",
            "settype decibel gain\n",
            "plot vdb(gain) ylabel 'gain mag'\n",
            "plot cph(gain) ylabel 'gain phase'\n",
            ";write top_level.out\n",
            ".endc\n",
            "\n",
            "\n",
            "**** end user architecture code\n",
            ".end\n",
            "\n"
          ]
        }
      ],
      "source": [
        "# Open SPICE netlist\n",
        "with open(\"{}.spice\".format(spice_netlist_filename), \"r\") as netlist_file:\n",
        "  netlist_contents = netlist_file.read()\n",
        "\n",
        "  # Print file in terminal\n",
        "  print(netlist_contents)"
      ]
    },
    {
      "cell_type": "markdown",
      "metadata": {
        "id": "W_K1JaNfLmkV"
      },
      "source": [
        "## Defect injection into SPICE netlists\n",
        "\n",
        "In this section, the OpAmp testbench netlist is parsed and defects are injected into the netlists for all devices.\n",
        "\n",
        "It is assumed that that a single defect occurs in each circuit as per Section 3.2 of the IEEE P2427 Draft Standard.\n",
        "\n",
        "The structure of FET devices is defined as follows:\n",
        "```\n",
        "Fet structure (both n and p):\n",
        "<inst_name> <drain> <gate> <source> <bulk> <cell_name>\n",
        "\n",
        "Example:\n",
        "XM1 vout Active_load_g VDD VDD sky130_fd_pr__pfet_01v8 ...\n",
        "```\n",
        "\n",
        "``get_fet_devices`` is created to parse the names and terminals of devices."
      ]
    },
    {
      "cell_type": "code",
      "execution_count": 62,
      "metadata": {
        "id": "xBfr9hpuLg16"
      },
      "outputs": [],
      "source": [
        "def get_fet_devices(netlist_contents):\n",
        "\n",
        "  # Regular expression to extract FET devices (lines starting with XM)\n",
        "  regex = r'(?P<inst_name>\\w+\\d+)\\s(?P<drain>\\w+)\\s(?P<gate>\\w+)\\s(?P<source>\\w+)\\s(?P<bulk>\\w+)\\s(?P<cell_name>sky130_fd_pr__[np]fet_01v8)'\n",
        "  fet_devices = re.findall(regex, netlist_contents)\n",
        "\n",
        "  return fet_devices\n",
        "\n",
        "# Dictionary for mapping transistor terminals to indices\n",
        "defect_terminal_dict = {\n",
        "  \"Drain\": 1,\n",
        "  \"Gate\": 2,\n",
        "  \"Source\": 3,\n",
        "  \"Bulk\": 4,\n",
        "}"
      ]
    },
    {
      "cell_type": "markdown",
      "source": [
        "``modify_nelist_open_defect`` and ``modify_nelist_short_defect`` are used to inject open and short defects into a provided netlist."
      ],
      "metadata": {
        "id": "E5tb4EUFSix2"
      }
    },
    {
      "cell_type": "code",
      "execution_count": 63,
      "metadata": {
        "id": "zDmtJXr-Lshl"
      },
      "outputs": [],
      "source": [
        "def modify_nelist_open_defect(netlist, fet_device_terminals, defect_device, defect_terminal_name):\n",
        "\n",
        "  # Get terminal number\n",
        "  defect_terminal_num = defect_terminal_dict[defect_terminal_name]\n",
        "  defect_terminal_netname = fet_device_terminals[defect_terminal_num]\n",
        "\n",
        "  # Create 3 additional nets to replace original connected to device terminal\n",
        "  defect_terminal_netname_replaced_1 = \"{}1\".format(defect_terminal_netname)\n",
        "  defect_terminal_netname_replaced_2 = \"{}2\".format(defect_terminal_netname)\n",
        "  defect_terminal_netname_replaced_3 = \"{}3\".format(defect_terminal_netname)\n",
        "\n",
        "  fet_device_terminals_copy = fet_device_terminals.copy()\n",
        "  # String of original device terminals\n",
        "  original_device_terminals = \" \".join(fet_device_terminals_copy)\n",
        "  fet_device_terminals_copy[defect_terminal_num] = defect_terminal_netname_replaced_1\n",
        "  # String of modified device terminals\n",
        "  modified_device_terminals = \" \".join(fet_device_terminals_copy)\n",
        "\n",
        "  print(\"Open defect at\", defect_terminal_name, fet_device_terminals_copy)\n",
        "\n",
        "  # Replace device terminals\n",
        "  modified_netlist = re.sub(original_device_terminals, modified_device_terminals, netlist)\n",
        "  # Replace remaining occurances of net\n",
        "  modified_netlist = re.sub(r\"\\b{}\\b\".format(defect_terminal_netname), defect_terminal_netname_replaced_2, modified_netlist)\n",
        "\n",
        "  placeholder_jumper = \"[\\*] J1 [?]1 j1 [?]1 j2\"\n",
        "\n",
        "  if (defect_terminal_name == \"Drain\"):\n",
        "    # Model open defect by adding a resistor\n",
        "    modified_netlist = re.sub(placeholder_jumper, \"R_drain_open {} {} 1G m=1\"\n",
        "      .format(defect_terminal_netname_replaced_1, defect_terminal_netname_replaced_2),\n",
        "                              modified_netlist, count=1)\n",
        "  elif (defect_terminal_name == \"Source\"):\n",
        "    # Model open defect by adding a resistor\n",
        "    modified_netlist= re.sub(placeholder_jumper, \"R_source_open {} {} 1G m=1\"\n",
        "      .format(defect_terminal_netname_replaced_1,\n",
        "              defect_terminal_netname_replaced_2),\n",
        "                              modified_netlist, count=1)\n",
        "  elif (defect_terminal_name == \"Gate\"):\n",
        "    # Model open defect for gate by adding a resistor network\n",
        "    modified_netlist = re.sub(placeholder_jumper, \"R_gate1_drain_open {gate1} {drain} 0.5T m=1 \\n \\\n",
        "      R_gate1_source_open {gate1} {source} 0.5T m=1 \\n \\\n",
        "      R_gate1_gate_open {gate1} {gate} 1T m=1 \\n \\\n",
        "      R_gate1_gate2_open {gate1} {gate2} 100T m=1\"\n",
        "      .format(gate=defect_terminal_netname_replaced_1,\n",
        "              gate2=defect_terminal_netname_replaced_2,\n",
        "              gate1=defect_terminal_netname_replaced_3,\n",
        "              drain=fet_device_terminals_copy[1],\n",
        "              source=fet_device_terminals_copy[3]),\n",
        "                              modified_netlist, count=1)\n",
        "\n",
        "  return modified_netlist\n",
        "\n",
        "def modify_nelist_short_defect(netlist, fet_device_terminals, defect_device, defect_terminal_name_1, defect_terminal_name_2):\n",
        "\n",
        "  print(\"Short defect at\", defect_terminal_name_1, \"-\", defect_terminal_name_2, fet_device_terminals)\n",
        "\n",
        "  # Get terminal number\n",
        "  defect_terminal_num_1 = defect_terminal_dict[defect_terminal_name_1]\n",
        "  defect_terminal_netname_1 = fet_device_terminals[defect_terminal_num_1]\n",
        "  defect_terminal_num_2 = defect_terminal_dict[defect_terminal_name_2]\n",
        "  defect_terminal_netname_2 = fet_device_terminals[defect_terminal_num_2]\n",
        "\n",
        "  placeholder_jumper = \"[\\*] J1 [?]1 j1 [?]1 j2\"\n",
        "\n",
        "  if ((defect_terminal_name_1 == \"Drain\" and defect_terminal_name_2 == \"Source\") \\\n",
        "      or (defect_terminal_name_1 == \"Source\" and defect_terminal_name_2 == \"Drain\")):\n",
        "    # Model open defect by adding a resistor\n",
        "    modified_netlist = re.sub(placeholder_jumper, \"R_drain_source_short {} {} 1 m=1\"\n",
        "      .format(defect_terminal_netname_1, defect_terminal_netname_2),\n",
        "                              netlist, count=1)\n",
        "\n",
        "  elif ((defect_terminal_name_1 == \"Gate\" and defect_terminal_name_2 == \"Drain\") \\\n",
        "        or (defect_terminal_name_1 == \"Drain\" and defect_terminal_name_2 == \"Source\")):\n",
        "    # Model open defect by adding a resistor\n",
        "    modified_netlist = re.sub(placeholder_jumper, \"R_gate_drain_short {} {} 1 m=1\"\n",
        "      .format(defect_terminal_netname_1, defect_terminal_netname_2),\n",
        "                              netlist, count=1)\n",
        "\n",
        "  elif ((defect_terminal_name_1 == \"Gate\" and defect_terminal_name_2 == \"Source\") \\\n",
        "        or (defect_terminal_name_1 == \"Source\" and defect_terminal_name_2 == \"Gate\")):\n",
        "    # Model open defect by adding a resistor\n",
        "    modified_netlist = re.sub(placeholder_jumper, \"R_gate_source_short {} {} 1 m=1\"\n",
        "      .format(defect_terminal_netname_1, defect_terminal_netname_2),\n",
        "                              netlist, count=1)\n",
        "\n",
        "  return modified_netlist"
      ]
    },
    {
      "cell_type": "markdown",
      "source": [
        "``generate_spice_netlists`` invokes ``modify_nelist_open_defect`` or ``modify_nelist_short_defect`` to generate a modified netlist which is then saved to a new file."
      ],
      "metadata": {
        "id": "vBq1_N26VvdX"
      }
    },
    {
      "cell_type": "code",
      "execution_count": 64,
      "metadata": {
        "id": "XvCEBjWwLwBi"
      },
      "outputs": [],
      "source": [
        "def generate_spice_netlists(netlist, defect_type, fet_device_terminals, defect_device_num, defect_terminal_name_1, defect_terminal_name_2):\n",
        "\n",
        "  if (defect_type == \"Open\"):\n",
        "    modified_netlist_contents = modify_nelist_open_defect(\n",
        "        netlist, fet_device_terminals, defect_device_num, defect_terminal_name_1)\n",
        "\n",
        "  elif (defect_type == \"Short\"):\n",
        "    modified_netlist_contents = modify_nelist_short_defect(\n",
        "        netlist, fet_device_terminals, defect_device_num, defect_terminal_name_1,\n",
        "        defect_terminal_name_2)\n",
        "\n",
        "  modified_netlist_contents = re.sub(\"opamp_specs.txt\", \"opamp_specs_{}_{}_{}_{}_{}.txt\"\n",
        "      .format(defect_device_num,fet_device_terminals[0],\n",
        "              defect_type,defect_terminal_name_1,defect_terminal_name_2),\n",
        "                              modified_netlist_contents)\n",
        "\n",
        "  # Open a file for writing modified netlist\n",
        "  with open(\"./generated_netlists/{}_{}_{}_{}_{}_{}.spice\"\n",
        "    .format(spice_netlist_filename,defect_device_num,fet_device_terminals[0],\n",
        "            defect_type,defect_terminal_name_1,defect_terminal_name_2), \"w\") as file:\n",
        "      file.write(modified_netlist_contents)\n"
      ]
    },
    {
      "cell_type": "markdown",
      "source": [
        "Modified netlists are generated to model every type of defect for every transistor in the netlist."
      ],
      "metadata": {
        "id": "0JHQNM15WW2K"
      }
    },
    {
      "cell_type": "code",
      "execution_count": 65,
      "metadata": {
        "colab": {
          "base_uri": "https://localhost:8080/"
        },
        "id": "aF3CYKLSLx-9",
        "outputId": "7ea2c830-8bfa-45f4-e1e6-647bd1145947"
      },
      "outputs": [
        {
          "output_type": "stream",
          "name": "stdout",
          "text": [
            "Open defect at Drain ['XM1', 'vout1', 'net2', 'VDD', 'VDD', 'sky130_fd_pr__pfet_01v8']\n",
            "Open defect at Source ['XM1', 'vout', 'net2', 'VDD1', 'VDD', 'sky130_fd_pr__pfet_01v8']\n",
            "Open defect at Gate ['XM1', 'vout', 'net21', 'VDD', 'VDD', 'sky130_fd_pr__pfet_01v8']\n",
            "Short defect at Drain - Source ['XM1', 'vout', 'net2', 'VDD', 'VDD', 'sky130_fd_pr__pfet_01v8']\n",
            "Short defect at Gate - Drain ['XM1', 'vout', 'net2', 'VDD', 'VDD', 'sky130_fd_pr__pfet_01v8']\n",
            "Short defect at Gate - Source ['XM1', 'vout', 'net2', 'VDD', 'VDD', 'sky130_fd_pr__pfet_01v8']\n",
            "Open defect at Drain ['XM2', 'net21', 'net2', 'VDD', 'VDD', 'sky130_fd_pr__pfet_01v8']\n",
            "Open defect at Source ['XM2', 'net2', 'net2', 'VDD1', 'VDD', 'sky130_fd_pr__pfet_01v8']\n",
            "Open defect at Gate ['XM2', 'net2', 'net21', 'VDD', 'VDD', 'sky130_fd_pr__pfet_01v8']\n",
            "Short defect at Drain - Source ['XM2', 'net2', 'net2', 'VDD', 'VDD', 'sky130_fd_pr__pfet_01v8']\n",
            "Short defect at Gate - Drain ['XM2', 'net2', 'net2', 'VDD', 'VDD', 'sky130_fd_pr__pfet_01v8']\n",
            "Short defect at Gate - Source ['XM2', 'net2', 'net2', 'VDD', 'VDD', 'sky130_fd_pr__pfet_01v8']\n",
            "Open defect at Drain ['XM3', 'net21', 'vin_p', 'net1', 'VSS', 'sky130_fd_pr__nfet_01v8']\n",
            "Open defect at Source ['XM3', 'net2', 'vin_p', 'net11', 'VSS', 'sky130_fd_pr__nfet_01v8']\n",
            "Open defect at Gate ['XM3', 'net2', 'vin_p1', 'net1', 'VSS', 'sky130_fd_pr__nfet_01v8']\n",
            "Short defect at Drain - Source ['XM3', 'net2', 'vin_p', 'net1', 'VSS', 'sky130_fd_pr__nfet_01v8']\n",
            "Short defect at Gate - Drain ['XM3', 'net2', 'vin_p', 'net1', 'VSS', 'sky130_fd_pr__nfet_01v8']\n",
            "Short defect at Gate - Source ['XM3', 'net2', 'vin_p', 'net1', 'VSS', 'sky130_fd_pr__nfet_01v8']\n",
            "Open defect at Drain ['XM4', 'vout1', 'vin_n', 'net1', 'VSS', 'sky130_fd_pr__nfet_01v8']\n",
            "Open defect at Source ['XM4', 'vout', 'vin_n', 'net11', 'VSS', 'sky130_fd_pr__nfet_01v8']\n",
            "Open defect at Gate ['XM4', 'vout', 'vin_n1', 'net1', 'VSS', 'sky130_fd_pr__nfet_01v8']\n",
            "Short defect at Drain - Source ['XM4', 'vout', 'vin_n', 'net1', 'VSS', 'sky130_fd_pr__nfet_01v8']\n",
            "Short defect at Gate - Drain ['XM4', 'vout', 'vin_n', 'net1', 'VSS', 'sky130_fd_pr__nfet_01v8']\n",
            "Short defect at Gate - Source ['XM4', 'vout', 'vin_n', 'net1', 'VSS', 'sky130_fd_pr__nfet_01v8']\n",
            "Open defect at Drain ['XM5', 'net11', 'net3', 'VSS', 'VSS', 'sky130_fd_pr__nfet_01v8']\n",
            "Open defect at Source ['XM5', 'net1', 'net3', 'VSS1', 'VSS', 'sky130_fd_pr__nfet_01v8']\n",
            "Open defect at Gate ['XM5', 'net1', 'net31', 'VSS', 'VSS', 'sky130_fd_pr__nfet_01v8']\n",
            "Short defect at Drain - Source ['XM5', 'net1', 'net3', 'VSS', 'VSS', 'sky130_fd_pr__nfet_01v8']\n",
            "Short defect at Gate - Drain ['XM5', 'net1', 'net3', 'VSS', 'VSS', 'sky130_fd_pr__nfet_01v8']\n",
            "Short defect at Gate - Source ['XM5', 'net1', 'net3', 'VSS', 'VSS', 'sky130_fd_pr__nfet_01v8']\n",
            "Open defect at Drain ['XM6', 'i_bias1', 'net3', 'VSS', 'VSS', 'sky130_fd_pr__nfet_01v8']\n",
            "Open defect at Source ['XM6', 'i_bias', 'net3', 'VSS1', 'VSS', 'sky130_fd_pr__nfet_01v8']\n",
            "Open defect at Gate ['XM6', 'i_bias', 'net31', 'VSS', 'VSS', 'sky130_fd_pr__nfet_01v8']\n",
            "Short defect at Drain - Source ['XM6', 'i_bias', 'net3', 'VSS', 'VSS', 'sky130_fd_pr__nfet_01v8']\n",
            "Short defect at Gate - Drain ['XM6', 'i_bias', 'net3', 'VSS', 'VSS', 'sky130_fd_pr__nfet_01v8']\n",
            "Short defect at Gate - Source ['XM6', 'i_bias', 'net3', 'VSS', 'VSS', 'sky130_fd_pr__nfet_01v8']\n",
            "Open defect at Drain ['XM9', 'en_n1', 'en', 'VDD', 'VDD', 'sky130_fd_pr__pfet_01v8']\n",
            "Open defect at Source ['XM9', 'en_n', 'en', 'VDD1', 'VDD', 'sky130_fd_pr__pfet_01v8']\n",
            "Open defect at Gate ['XM9', 'en_n', 'en1', 'VDD', 'VDD', 'sky130_fd_pr__pfet_01v8']\n",
            "Short defect at Drain - Source ['XM9', 'en_n', 'en', 'VDD', 'VDD', 'sky130_fd_pr__pfet_01v8']\n",
            "Short defect at Gate - Drain ['XM9', 'en_n', 'en', 'VDD', 'VDD', 'sky130_fd_pr__pfet_01v8']\n",
            "Short defect at Gate - Source ['XM9', 'en_n', 'en', 'VDD', 'VDD', 'sky130_fd_pr__pfet_01v8']\n",
            "Open defect at Drain ['XM10', 'en_n1', 'en', 'VSS', 'VSS', 'sky130_fd_pr__nfet_01v8']\n",
            "Open defect at Source ['XM10', 'en_n', 'en', 'VSS1', 'VSS', 'sky130_fd_pr__nfet_01v8']\n",
            "Open defect at Gate ['XM10', 'en_n', 'en1', 'VSS', 'VSS', 'sky130_fd_pr__nfet_01v8']\n",
            "Short defect at Drain - Source ['XM10', 'en_n', 'en', 'VSS', 'VSS', 'sky130_fd_pr__nfet_01v8']\n",
            "Short defect at Gate - Drain ['XM10', 'en_n', 'en', 'VSS', 'VSS', 'sky130_fd_pr__nfet_01v8']\n",
            "Short defect at Gate - Source ['XM10', 'en_n', 'en', 'VSS', 'VSS', 'sky130_fd_pr__nfet_01v8']\n",
            "Open defect at Drain ['XM7', 'i_bias1', 'en', 'net3', 'VSS', 'sky130_fd_pr__nfet_01v8']\n",
            "Open defect at Source ['XM7', 'i_bias', 'en', 'net31', 'VSS', 'sky130_fd_pr__nfet_01v8']\n",
            "Open defect at Gate ['XM7', 'i_bias', 'en1', 'net3', 'VSS', 'sky130_fd_pr__nfet_01v8']\n",
            "Short defect at Drain - Source ['XM7', 'i_bias', 'en', 'net3', 'VSS', 'sky130_fd_pr__nfet_01v8']\n",
            "Short defect at Gate - Drain ['XM7', 'i_bias', 'en', 'net3', 'VSS', 'sky130_fd_pr__nfet_01v8']\n",
            "Short defect at Gate - Source ['XM7', 'i_bias', 'en', 'net3', 'VSS', 'sky130_fd_pr__nfet_01v8']\n",
            "Open defect at Drain ['XM8', 'net31', 'en_n', 'VSS', 'VSS', 'sky130_fd_pr__nfet_01v8']\n",
            "Open defect at Source ['XM8', 'net3', 'en_n', 'VSS1', 'VSS', 'sky130_fd_pr__nfet_01v8']\n",
            "Open defect at Gate ['XM8', 'net3', 'en_n1', 'VSS', 'VSS', 'sky130_fd_pr__nfet_01v8']\n",
            "Short defect at Drain - Source ['XM8', 'net3', 'en_n', 'VSS', 'VSS', 'sky130_fd_pr__nfet_01v8']\n",
            "Short defect at Gate - Drain ['XM8', 'net3', 'en_n', 'VSS', 'VSS', 'sky130_fd_pr__nfet_01v8']\n",
            "Short defect at Gate - Source ['XM8', 'net3', 'en_n', 'VSS', 'VSS', 'sky130_fd_pr__nfet_01v8']\n"
          ]
        }
      ],
      "source": [
        "# Extract all fet devices from netlist\n",
        "fet_devices = get_fet_devices(netlist_contents)\n",
        "\n",
        "# Create netlists with defects injected\n",
        "for defect_device_num in range(0,len(fet_devices)-1):\n",
        "  fet_device_terminals = list(fet_devices[defect_device_num])\n",
        "  generate_spice_netlists(netlist_contents, \"Open\", fet_device_terminals, defect_device_num, defect_terminal_name_1=\"Drain\", defect_terminal_name_2=None)\n",
        "  generate_spice_netlists(netlist_contents, \"Open\", fet_device_terminals, defect_device_num, defect_terminal_name_1=\"Source\", defect_terminal_name_2=None)\n",
        "  generate_spice_netlists(netlist_contents, \"Open\", fet_device_terminals, defect_device_num, defect_terminal_name_1=\"Gate\", defect_terminal_name_2=None)\n",
        "  generate_spice_netlists(netlist_contents, \"Short\", fet_device_terminals, defect_device_num, defect_terminal_name_1=\"Drain\", defect_terminal_name_2=\"Source\")\n",
        "  generate_spice_netlists(netlist_contents, \"Short\", fet_device_terminals, defect_device_num, defect_terminal_name_1=\"Gate\", defect_terminal_name_2=\"Drain\")\n",
        "  generate_spice_netlists(netlist_contents, \"Short\", fet_device_terminals, defect_device_num, defect_terminal_name_1=\"Gate\", defect_terminal_name_2=\"Source\")"
      ]
    },
    {
      "cell_type": "markdown",
      "source": [
        "The following cell is optional for downloading the generated_netlists."
      ],
      "metadata": {
        "id": "Yo6WGc9_XAoK"
      }
    },
    {
      "cell_type": "code",
      "source": [
        "# # Download generated netlists\n",
        "# !zip -r generated_netlists.zip /content/generated_netlists\n",
        "\n",
        "# from google.colab import files\n",
        "# files.download(\"/content/generated_netlists.zip\")"
      ],
      "metadata": {
        "id": "ckTzEyPJH1Sh"
      },
      "execution_count": 66,
      "outputs": []
    },
    {
      "cell_type": "markdown",
      "metadata": {
        "id": "k618RqaDNANx"
      },
      "source": [
        "## Batch running simulations with NGSpice\n",
        "\n",
        "In this section, the modified netlists are run using the NGSpice simulator in batch mode."
      ]
    },
    {
      "cell_type": "code",
      "execution_count": 67,
      "metadata": {
        "id": "xcKhVjHZL2QM"
      },
      "outputs": [],
      "source": [
        "# Code to replace string in all spice files\n",
        "# This was created to replace .lib path for netlists created locally\n",
        "def replace_string_in_spice_files(folder_path, original_pdk_path, final_pdk_path):\n",
        "\n",
        "  # Iterate over files in directory\n",
        "  for spice_file_name in os.listdir(folder_path):\n",
        "    if spice_file_name.endswith(\".spice\"):\n",
        "\n",
        "      # Read files\n",
        "      with open(os.path.join(folder_path, spice_file_name), 'r') as spice_file:\n",
        "        netlist = spice_file.read()\n",
        "\n",
        "      modified_netlist = re.sub(original_pdk_path, final_pdk_path, netlist)\n",
        "\n",
        "      # Write modified files\n",
        "      with open(os.path.join(folder_path, spice_file_name), 'w') as spice_file:\n",
        "        spice_file.write(modified_netlist)\n",
        "\n",
        "replace_string_in_spice_files(\"/content/generated_netlists\", \"/usr/local/share/pdk/sky130B/\", \"/content/conda-env/share/pdk/sky130A/\") #\"/foss/pdks/sky130A/\""
      ]
    },
    {
      "cell_type": "code",
      "execution_count": 68,
      "metadata": {
        "colab": {
          "base_uri": "https://localhost:8080/"
        },
        "id": "hXp8Z-y-aDyR",
        "outputId": "2af470da-209b-465c-b712-ba1d2e145805"
      },
      "outputs": [
        {
          "output_type": "stream",
          "name": "stdout",
          "text": [
            "--2024-12-01 23:04:25--  https://raw.githubusercontent.com/TimothyJNewman/open-source-chip-design-v1/refs/heads/main/Jupyter_Notebooks/ngspice_batchrun.sh\n",
            "Resolving raw.githubusercontent.com (raw.githubusercontent.com)... 185.199.110.133, 185.199.111.133, 185.199.109.133, ...\n",
            "Connecting to raw.githubusercontent.com (raw.githubusercontent.com)|185.199.110.133|:443... connected.\n",
            "HTTP request sent, awaiting response... 200 OK\n",
            "Length: 71 [text/plain]\n",
            "Saving to: ‘ngspice_batchrun.sh’\n",
            "\n",
            "\rngspice_batchrun.sh   0%[                    ]       0  --.-KB/s               \rngspice_batchrun.sh 100%[===================>]      71  --.-KB/s    in 0s      \n",
            "\n",
            "2024-12-01 23:04:26 (1.06 MB/s) - ‘ngspice_batchrun.sh’ saved [71/71]\n",
            "\n",
            "mkdir: cannot create directory ‘./specs/’: File exists\n"
          ]
        }
      ],
      "source": [
        "# Download batch run shell file from github\n",
        "ngspice_batchrun_file_url = f\"https://raw.githubusercontent.com/TimothyJNewman/open-source-chip-design-v1/refs/heads/main/Jupyter_Notebooks/ngspice_batchrun.sh\"\n",
        "ngspice_batchrun_file = \"ngspice_batchrun.sh\"\n",
        "!wget {ngspice_batchrun_file_url} -O {ngspice_batchrun_file}\n",
        "\n",
        "specs_dir = \"./specs/\"\n",
        "!mkdir {specs_dir}"
      ]
    },
    {
      "cell_type": "code",
      "execution_count": 69,
      "metadata": {
        "colab": {
          "base_uri": "https://localhost:8080/"
        },
        "id": "mIsGOF3cYW7b",
        "outputId": "958002d9-7c96-4ad9-cd93-72e5cb7e9141"
      },
      "outputs": [
        {
          "output_type": "stream",
          "name": "stdout",
          "text": [
            "/content/ngspice_batchrun.sh: line 1: ngspice: command not found\n",
            "/content/ngspice_batchrun.sh: line 1: ngspice: command not found\n",
            "/content/ngspice_batchrun.sh: line 1: ngspice: command not found\n",
            "/content/ngspice_batchrun.sh: line 1: ngspice: command not found\n",
            "/content/ngspice_batchrun.sh: line 1: ngspice: command not found\n",
            "/content/ngspice_batchrun.sh: line 1: ngspice: command not found\n",
            "/content/ngspice_batchrun.sh: line 1: ngspice: command not found\n",
            "/content/ngspice_batchrun.sh: line 1: ngspice: command not found\n",
            "/content/ngspice_batchrun.sh: line 1: ngspice: command not found\n",
            "/content/ngspice_batchrun.sh: line 1: ngspice: command not found\n",
            "/content/ngspice_batchrun.sh: line 1: ngspice: command not found\n",
            "/content/ngspice_batchrun.sh: line 1: ngspice: command not found\n",
            "/content/ngspice_batchrun.sh: line 1: ngspice: command not found\n",
            "/content/ngspice_batchrun.sh: line 1: ngspice: command not found\n",
            "/content/ngspice_batchrun.sh: line 1: ngspice: command not found\n",
            "/content/ngspice_batchrun.sh: line 1: ngspice: command not found\n",
            "/content/ngspice_batchrun.sh: line 1: ngspice: command not found\n",
            "/content/ngspice_batchrun.sh: line 1: ngspice: command not found\n",
            "/content/ngspice_batchrun.sh: line 1: ngspice: command not found\n",
            "/content/ngspice_batchrun.sh: line 1: ngspice: command not found\n",
            "/content/ngspice_batchrun.sh: line 1: ngspice: command not found\n",
            "/content/ngspice_batchrun.sh: line 1: ngspice: command not found\n",
            "/content/ngspice_batchrun.sh: line 1: ngspice: command not found\n",
            "/content/ngspice_batchrun.sh: line 1: ngspice: command not found\n",
            "/content/ngspice_batchrun.sh: line 1: ngspice: command not found\n",
            "/content/ngspice_batchrun.sh: line 1: ngspice: command not found\n",
            "/content/ngspice_batchrun.sh: line 1: ngspice: command not found\n",
            "/content/ngspice_batchrun.sh: line 1: ngspice: command not found\n",
            "/content/ngspice_batchrun.sh: line 1: ngspice: command not found\n",
            "/content/ngspice_batchrun.sh: line 1: ngspice: command not found\n",
            "/content/ngspice_batchrun.sh: line 1: ngspice: command not found\n",
            "/content/ngspice_batchrun.sh: line 1: ngspice: command not found\n",
            "/content/ngspice_batchrun.sh: line 1: ngspice: command not found\n",
            "/content/ngspice_batchrun.sh: line 1: ngspice: command not found\n",
            "/content/ngspice_batchrun.sh: line 1: ngspice: command not found\n",
            "/content/ngspice_batchrun.sh: line 1: ngspice: command not found\n",
            "/content/ngspice_batchrun.sh: line 1: ngspice: command not found\n",
            "/content/ngspice_batchrun.sh: line 1: ngspice: command not found\n",
            "/content/ngspice_batchrun.sh: line 1: ngspice: command not found\n",
            "/content/ngspice_batchrun.sh: line 1: ngspice: command not found\n",
            "/content/ngspice_batchrun.sh: line 1: ngspice: command not found\n",
            "/content/ngspice_batchrun.sh: line 1: ngspice: command not found\n",
            "/content/ngspice_batchrun.sh: line 1: ngspice: command not found\n",
            "/content/ngspice_batchrun.sh: line 1: ngspice: command not found\n",
            "/content/ngspice_batchrun.sh: line 1: ngspice: command not found\n",
            "/content/ngspice_batchrun.sh: line 1: ngspice: command not found\n",
            "/content/ngspice_batchrun.sh: line 1: ngspice: command not found\n",
            "/content/ngspice_batchrun.sh: line 1: ngspice: command not found\n",
            "/content/ngspice_batchrun.sh: line 1: ngspice: command not found\n",
            "/content/ngspice_batchrun.sh: line 1: ngspice: command not found\n",
            "/content/ngspice_batchrun.sh: line 1: ngspice: command not found\n",
            "/content/ngspice_batchrun.sh: line 1: ngspice: command not found\n",
            "/content/ngspice_batchrun.sh: line 1: ngspice: command not found\n",
            "/content/ngspice_batchrun.sh: line 1: ngspice: command not found\n",
            "/content/ngspice_batchrun.sh: line 1: ngspice: command not found\n",
            "/content/ngspice_batchrun.sh: line 1: ngspice: command not found\n",
            "/content/ngspice_batchrun.sh: line 1: ngspice: command not found\n",
            "/content/ngspice_batchrun.sh: line 1: ngspice: command not found\n",
            "/content/ngspice_batchrun.sh: line 1: ngspice: command not found\n",
            "/content/ngspice_batchrun.sh: line 1: ngspice: command not found\n",
            "/content/ngspice_batchrun.sh: line 1: ngspice: command not found\n"
          ]
        }
      ],
      "source": [
        "!bash /content/ngspice_batchrun.sh"
      ]
    },
    {
      "cell_type": "markdown",
      "metadata": {
        "id": "BJpR6p2dM6D6"
      },
      "source": [
        "## Automatic testing of specs files\n",
        "In this section, the testbench performance parameters for all injected defects are compared with the acceptable ranges in ``specs_range.txt``."
      ]
    },
    {
      "cell_type": "code",
      "execution_count": 70,
      "metadata": {
        "colab": {
          "base_uri": "https://localhost:8080/"
        },
        "id": "953lx7l6TBPk",
        "outputId": "7c90b27e-9489-485f-9203-e6d108121ae5"
      },
      "outputs": [
        {
          "output_type": "stream",
          "name": "stdout",
          "text": [
            "--2024-12-01 23:04:26--  https://raw.githubusercontent.com/TimothyJNewman/open-source-chip-design-v1/refs/heads/main/Jupyter_Notebooks/opamp_specs_range.txt\n",
            "Resolving raw.githubusercontent.com (raw.githubusercontent.com)... 185.199.108.133, 185.199.111.133, 185.199.110.133, ...\n",
            "Connecting to raw.githubusercontent.com (raw.githubusercontent.com)|185.199.108.133|:443... connected.\n",
            "HTTP request sent, awaiting response... 200 OK\n",
            "Length: 226 [text/plain]\n",
            "Saving to: ‘specs_range.txt’\n",
            "\n",
            "specs_range.txt     100%[===================>]     226  --.-KB/s    in 0s      \n",
            "\n",
            "2024-12-01 23:04:26 (4.82 MB/s) - ‘specs_range.txt’ saved [226/226]\n",
            "\n"
          ]
        }
      ],
      "source": [
        "# Download Specs Range from github\n",
        "specs_range_file_url = f\"https://raw.githubusercontent.com/TimothyJNewman/open-source-chip-design-v1/refs/heads/main/Jupyter_Notebooks/opamp_specs_range.txt\"\n",
        "specs_range_file = \"specs_range.txt\"\n",
        "!wget {specs_range_file_url} -O {specs_range_file}"
      ]
    },
    {
      "cell_type": "markdown",
      "source": [
        "``register_ranges`` parses a file with performance parameter ranges and creates a dictionary containting the ranges.\n",
        "\n",
        "``test_specs_file`` uses the performance parameter ranges to test the simulated performance parameters for all defects and returns a dictionary with results."
      ],
      "metadata": {
        "id": "SqIBY6qGcSeF"
      }
    },
    {
      "cell_type": "code",
      "execution_count": 71,
      "metadata": {
        "id": "kByDVpo3MZEC"
      },
      "outputs": [],
      "source": [
        "def register_ranges(path_file_range):\n",
        "\n",
        "  range_dict = {}\n",
        "\n",
        "  # Opens specs_range file and places max and min into a dictionary\n",
        "  with open(path_file_range, \"r\") as file:\n",
        "    for line in file:\n",
        "      # Regex to find numbers after '='\n",
        "      match_number_min = re.search(r\"=\\s*(-?\\d+(\\.\\d+)?([eE][+-]?\\d+)?)\", line)\n",
        "      match_number_max = re.search(r\":\\s*(-?\\d+(\\.\\d+)?([eE][+-]?\\d+)?)\", line)\n",
        "\n",
        "      match_spec_property = re.search(r\"([^\\s=]+)\\s*=\", line)\n",
        "\n",
        "      if match_spec_property:\n",
        "          spec_property = match_spec_property.group(1)\n",
        "\n",
        "      if match_number_max:\n",
        "          spec_value_max_scientific = match_number_max.group(1)  # Extract the matched number (its common name to hold reg expressions)\n",
        "          spec_value_max = float(spec_value_max_scientific)\n",
        "\n",
        "      if match_number_min:\n",
        "          spec_value_min_scientific = match_number_min.group(1)  # Extract the matched number (its common name to hold reg expressions)\n",
        "          spec_value_min = float(spec_value_min_scientific)\n",
        "\n",
        "      range_dict[f\"{spec_property}\"] = [spec_value_min, spec_value_max]\n",
        "\n",
        "    return range_dict"
      ]
    },
    {
      "cell_type": "code",
      "execution_count": 72,
      "metadata": {
        "id": "3Ynvt-hrMmtv"
      },
      "outputs": [],
      "source": [
        "def test_specs_file(path_file, range_dict):\n",
        "\n",
        "  results_dict = {}\n",
        "  results_dict[\"path_file\"] = path_file\n",
        "\n",
        "  overall_result = 1\n",
        "\n",
        "  with open(path_file, \"r\") as file:\n",
        "    for line in file:\n",
        "\n",
        "      # Regex to find numbers after '='\n",
        "      match_number = re.search(r\"=\\s*(-?\\d\\.?\\d+[Ee][+\\-]\\d\\d?)\", line)\n",
        "      match_spec_property = re.search(r\"([^\\s=]+)\\s*=\", line)\n",
        "\n",
        "      if match_spec_property:\n",
        "        spec_property = match_spec_property.group(1)\n",
        "\n",
        "      if match_number:\n",
        "        spec_value_scientific = match_number.group(1)  # Extract the matched number (its common name to hold reg expressions)\n",
        "        spec_value = float(spec_value_scientific)\n",
        "\n",
        "      if range_dict[spec_property][0] <= spec_value <= range_dict[spec_property][1]:\n",
        "        results_dict[spec_property] = 1\n",
        "\n",
        "      else:\n",
        "        results_dict[spec_property] = 0\n",
        "        overall_result = 0\n",
        "\n",
        "  results_dict[\"overall_result\"] = overall_result\n",
        "\n",
        "  return results_dict"
      ]
    },
    {
      "cell_type": "markdown",
      "source": [
        "Test all performance parameter files for all defects."
      ],
      "metadata": {
        "id": "LfD7e534dII8"
      }
    },
    {
      "cell_type": "code",
      "execution_count": 73,
      "metadata": {
        "colab": {
          "base_uri": "https://localhost:8080/"
        },
        "id": "iPp-nE9CMrte",
        "outputId": "027de405-d65c-48ea-b224-6641d547e7f6"
      },
      "outputs": [
        {
          "output_type": "stream",
          "name": "stdout",
          "text": [
            "                                            path_file  slew_rate  \\\n",
            "0     ./specs/opamp_specs_6_XM9_Short_Gate_Source.txt          1   \n",
            "1      ./specs/opamp_specs_8_XM7_Open_Source_None.txt          1   \n",
            "2   ./specs/opamp_specs_7_XM10_Short_Drain_Source.txt          1   \n",
            "3                             ./specs/opamp_specs.txt          1   \n",
            "4    ./specs/opamp_specs_9_XM8_Short_Drain_Source.txt          0   \n",
            "..                                                ...        ...   \n",
            "56       ./specs/opamp_specs_1_XM2_Open_Gate_None.txt          0   \n",
            "57   ./specs/opamp_specs_1_XM2_Short_Drain_Source.txt          0   \n",
            "58       ./specs/opamp_specs_0_XM1_Open_Gate_None.txt          0   \n",
            "59     ./specs/opamp_specs_9_XM8_Open_Source_None.txt          1   \n",
            "60    ./specs/opamp_specs_8_XM7_Short_Gate_Source.txt          0   \n",
            "\n",
            "    power_average  aol_dc_db  bw3db  ugbw  gain_margin  phase_margin  \\\n",
            "0               1          1      1     1            1             1   \n",
            "1               1          1      1     1            1             1   \n",
            "2               1          1      1     1            1             1   \n",
            "3               1          1      1     1            1             1   \n",
            "4               0          0      0     0            0             0   \n",
            "..            ...        ...    ...   ...          ...           ...   \n",
            "56              0          0      0     0            0             0   \n",
            "57              0          0      0     0            0             0   \n",
            "58              0          0      0     0            0             0   \n",
            "59              1          1      1     1            1             1   \n",
            "60              0          0      0     0            0             0   \n",
            "\n",
            "    overall_result  \n",
            "0                1  \n",
            "1                1  \n",
            "2                1  \n",
            "3                1  \n",
            "4                0  \n",
            "..             ...  \n",
            "56               0  \n",
            "57               0  \n",
            "58               0  \n",
            "59               1  \n",
            "60               0  \n",
            "\n",
            "[61 rows x 9 columns]\n"
          ]
        }
      ],
      "source": [
        "range_dict = register_ranges(path_file_range=specs_range_file)\n",
        "results_dict_list = []\n",
        "\n",
        "# Iterate over performance parameter files in directory\n",
        "for filename in os.listdir(specs_dir):\n",
        "    results_dict = test_specs_file(os.path.join(specs_dir, filename), range_dict)\n",
        "    results_dict_list.append(results_dict)\n",
        "\n",
        "results_df = pd.DataFrame(results_dict_list)\n",
        "results_df.to_csv(\"results_summary.csv\")\n",
        "print(results_df)"
      ]
    },
    {
      "cell_type": "markdown",
      "source": [
        "## Acknowledgements\n",
        "\n",
        "The following people were involved in the project:"
      ],
      "metadata": {
        "id": "heBKC5pbKCdm"
      }
    },
    {
      "cell_type": "code",
      "execution_count": 73,
      "metadata": {
        "id": "fJSuXOWNcIDp"
      },
      "outputs": [],
      "source": []
    }
  ],
  "metadata": {
    "colab": {
      "provenance": [],
      "toc_visible": true
    },
    "kernelspec": {
      "display_name": "Python 3",
      "name": "python3"
    },
    "language_info": {
      "name": "python"
    }
  },
  "nbformat": 4,
  "nbformat_minor": 0
}