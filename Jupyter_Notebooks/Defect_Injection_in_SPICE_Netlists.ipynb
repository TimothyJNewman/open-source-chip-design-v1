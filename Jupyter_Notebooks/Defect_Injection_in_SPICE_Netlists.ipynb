{
  "nbformat": 4,
  "nbformat_minor": 0,
  "metadata": {
    "colab": {
      "provenance": []
    },
    "kernelspec": {
      "name": "python3",
      "display_name": "Python 3"
    },
    "language_info": {
      "name": "python"
    }
  },
  "cells": [
    {
      "cell_type": "markdown",
      "source": [
        "# Defect Injection in SPICE Netlists\n",
        "This Jupyter Notebook was created to explore injecting defects into SPICE netlists based in the IEEE P2427 framework.\n",
        "\n",
        "It involves the following process:\n",
        "\n",
        "1.   Devices and nodes are in the netlist are parsed.\n",
        "2.   Defects are added into the netlist. These are modelled as large parameter changes, shorts or opens.\n",
        "3.   The netlist is simulated and performance parameters are measured. If the performance parameters fall outside of the expected range, they are classified as failures.\n",
        "4. Defect coverage is determined based in the percentage of defects detected by the tests."
      ],
      "metadata": {
        "id": "SBSPNcFsKbnJ"
      }
    },
    {
      "cell_type": "code",
      "source": [
        "# Import modules\n",
        "import re"
      ],
      "metadata": {
        "id": "NQ52NGuyzcGY"
      },
      "execution_count": 46,
      "outputs": []
    },
    {
      "cell_type": "markdown",
      "source": [
        "## Example SPICE Netlist\n",
        "\n",
        "This netlist is a testbench for testing a simple 5 transistor OpAmp."
      ],
      "metadata": {
        "id": "clEIOj8-Ljsn"
      }
    },
    {
      "cell_type": "code",
      "source": [
        "# Download SPICE netlist from github\n",
        "spice_netlist_url = f\"https://raw.githubusercontent.com/TimothyJNewman/open-source-chip-design-v1/refs/heads/main/ISSCC_2025_V1/netlist/test_analog.spice\"\n",
        "!wget {spice_netlist_url}\n",
        "!mkdir generated_netlists"
      ],
      "metadata": {
        "id": "wg03XIwmRbTc",
        "colab": {
          "base_uri": "https://localhost:8080/"
        },
        "outputId": "cf28f81f-e863-4e41-d193-241cb7cf964e"
      },
      "execution_count": 47,
      "outputs": [
        {
          "output_type": "stream",
          "name": "stdout",
          "text": [
            "--2024-11-25 23:18:00--  https://raw.githubusercontent.com/TimothyJNewman/open-source-chip-design-v1/refs/heads/main/ISSCC_2025_V1/netlist/test_analog.spice\n",
            "Resolving raw.githubusercontent.com (raw.githubusercontent.com)... 185.199.108.133, 185.199.109.133, 185.199.110.133, ...\n",
            "Connecting to raw.githubusercontent.com (raw.githubusercontent.com)|185.199.108.133|:443... connected.\n",
            "HTTP request sent, awaiting response... 200 OK\n",
            "Length: 5344 (5.2K) [text/plain]\n",
            "Saving to: ‘test_analog.spice’\n",
            "\n",
            "test_analog.spice   100%[===================>]   5.22K  --.-KB/s    in 0s      \n",
            "\n",
            "2024-11-25 23:18:00 (49.9 MB/s) - ‘test_analog.spice’ saved [5344/5344]\n",
            "\n",
            "mkdir: cannot create directory ‘generated_netlists’: File exists\n"
          ]
        }
      ]
    },
    {
      "cell_type": "code",
      "source": [
        "# Open SPICE netlist\n",
        "with open(\"test_analog.spice\", \"r\") as netlist_file:\n",
        "  netlist_contents = netlist_file.read()\n",
        "\n",
        "# Print file in terminal\n",
        "  print(netlist_contents)"
      ],
      "metadata": {
        "colab": {
          "base_uri": "https://localhost:8080/"
        },
        "id": "xnxBaYyhLPzv",
        "outputId": "902c91f7-1b9d-412f-ef86-75bd4ac9c147"
      },
      "execution_count": 48,
      "outputs": [
        {
          "output_type": "stream",
          "name": "stdout",
          "text": [
            "** sch_path: /home/timothyjabez/Documents/Open_Source_Circuit_Design/ISSCC_2025_V1/xschem/Benchmark_Circuits/test_analog/test_analog.sch\n",
            "**.subckt test_analog\n",
            "V6 vin_p GND 0.9 dc 0.9 ac 1 pulse(0 1 100p 100p 100p 1u 2u)\n",
            "V7 vin_n GND 0.9\n",
            "V8 VDD GND 1.8\n",
            "V9 VSS GND 0\n",
            "I0 VSS i_bias 10u\n",
            "x1 VDD vout vin_p vin_n VSS i_bias en OpAmp\n",
            "V1 en GND 1.8\n",
            "C1 vout GND 1p m=1\n",
            "**** begin user architecture code\n",
            ".lib /usr/local/share/pdk/sky130A/libs.tech/combined/sky130.lib.spice tt\n",
            "**** end user architecture code\n",
            "**.ends\n",
            "\n",
            "* expanding   symbol:  Benchmark_Circuits/OpAmp_Defect/OpAmp.sym # of pins=7\n",
            "** sym_path: /home/timothyjabez/Documents/Open_Source_Circuit_Design/ISSCC_2025_V1/xschem/Benchmark_Circuits/OpAmp_Defect/OpAmp.sym\n",
            "** sch_path: /home/timothyjabez/Documents/Open_Source_Circuit_Design/ISSCC_2025_V1/xschem/Benchmark_Circuits/OpAmp_Defect/OpAmp.sch\n",
            ".subckt OpAmp VDD vout vin_p vin_n VSS i_bias en\n",
            "*.ipin vin_p\n",
            "*.ipin vin_n\n",
            "*.iopin VSS\n",
            "*.iopin VDD\n",
            "*.opin vout\n",
            "*.ipin i_bias\n",
            "*.ipin en\n",
            "XM1 vout Active_load_g VDD VDD sky130_fd_pr__pfet_01v8 L=1 W=8 nf=2 ad='int((nf+1)/2) * W/nf * 0.29' as='int((nf+2)/2) * W/nf * 0.29'\n",
            "+ pd='2*int((nf+1)/2) * (W/nf + 0.29)' ps='2*int((nf+2)/2) * (W/nf + 0.29)' nrd='0.29 / W' nrs='0.29 / W' sa=0 sb=0 sd=0 mult=1 m=1\n",
            "XM2 Active_load_g Active_load_g VDD VDD sky130_fd_pr__pfet_01v8 L=1 W=8 nf=2 ad='int((nf+1)/2) * W/nf * 0.29' as='int((nf+2)/2) * W/nf * 0.29'\n",
            "+ pd='2*int((nf+1)/2) * (W/nf + 0.29)' ps='2*int((nf+2)/2) * (W/nf + 0.29)' nrd='0.29 / W' nrs='0.29 / W' sa=0 sb=0 sd=0 mult=1 m=1\n",
            "XM3 Active_load_g vin_p I_mirror_d VSS sky130_fd_pr__nfet_01v8 L=0.5 W=16 nf=4 ad='int((nf+1)/2) * W/nf * 0.29' as='int((nf+2)/2) * W/nf * 0.29'\n",
            "+ pd='2*int((nf+1)/2) * (W/nf + 0.29)' ps='2*int((nf+2)/2) * (W/nf + 0.29)' nrd='0.29 / W' nrs='0.29 / W' sa=0 sb=0 sd=0 mult=1 m=1\n",
            "XM4 vout vin_n I_mirror_d VSS sky130_fd_pr__nfet_01v8 L=0.5 W=16 nf=4 ad='int((nf+1)/2) * W/nf * 0.29' as='int((nf+2)/2) * W/nf * 0.29'\n",
            "+ pd='2*int((nf+1)/2) * (W/nf + 0.29)' ps='2*int((nf+2)/2) * (W/nf + 0.29)' nrd='0.29 / W' nrs='0.29 / W' sa=0 sb=0 sd=0 mult=1 m=1\n",
            "XM5 I_mirror_d I_mirror_g VSS VSS sky130_fd_pr__nfet_01v8 L=1 W=8 nf=2 ad='int((nf+1)/2) * W/nf * 0.29' as='int((nf+2)/2) * W/nf * 0.29'\n",
            "+ pd='2*int((nf+1)/2) * (W/nf + 0.29)' ps='2*int((nf+2)/2) * (W/nf + 0.29)' nrd='0.29 / W' nrs='0.29 / W' sa=0 sb=0 sd=0 mult=2 m=2\n",
            "XM6 i_bias I_mirror_g VSS VSS sky130_fd_pr__nfet_01v8 L=1 W=8 nf=2 ad='int((nf+1)/2) * W/nf * 0.29' as='int((nf+2)/2) * W/nf * 0.29'\n",
            "+ pd='2*int((nf+1)/2) * (W/nf + 0.29)' ps='2*int((nf+2)/2) * (W/nf + 0.29)' nrd='0.29 / W' nrs='0.29 / W' sa=0 sb=0 sd=0 mult=1 m=1\n",
            "XM9 en_n en VDD VDD sky130_fd_pr__pfet_01v8 L=0.15 W=2 nf=1 ad='int((nf+1)/2) * W/nf * 0.29' as='int((nf+2)/2) * W/nf * 0.29' pd='2*int((nf+1)/2) * (W/nf + 0.29)'\n",
            "+ ps='2*int((nf+2)/2) * (W/nf + 0.29)' nrd='0.29 / W' nrs='0.29 / W' sa=0 sb=0 sd=0 mult=1 m=1\n",
            "XM10 en_n en VSS VSS sky130_fd_pr__nfet_01v8 L=0.15 W=1 nf=1 ad='int((nf+1)/2) * W/nf * 0.29' as='int((nf+2)/2) * W/nf * 0.29' pd='2*int((nf+1)/2) * (W/nf + 0.29)'\n",
            "+ ps='2*int((nf+2)/2) * (W/nf + 0.29)' nrd='0.29 / W' nrs='0.29 / W' sa=0 sb=0 sd=0 mult=1 m=1\n",
            "XM7 i_bias en I_mirror_g VSS sky130_fd_pr__nfet_01v8 L=0.35 W=4 nf=2 ad='int((nf+1)/2) * W/nf * 0.29' as='int((nf+2)/2) * W/nf * 0.29'\n",
            "+ pd='2*int((nf+1)/2) * (W/nf + 0.29)' ps='2*int((nf+2)/2) * (W/nf + 0.29)' nrd='0.29 / W' nrs='0.29 / W' sa=0 sb=0 sd=0 mult=1 m=1\n",
            "XM8 I_mirror_g en_n VSS VSS sky130_fd_pr__nfet_01v8 L=0.35 W=4 nf=2 ad='int((nf+1)/2) * W/nf * 0.29' as='int((nf+2)/2) * W/nf * 0.29'\n",
            "+ pd='2*int((nf+1)/2) * (W/nf + 0.29)' ps='2*int((nf+2)/2) * (W/nf + 0.29)' nrd='0.29 / W' nrs='0.29 / W' sa=0 sb=0 sd=0 mult=1 m=1\n",
            "XM11 Active_load_g en VDD VDD sky130_fd_pr__pfet_01v8 L=0.35 W=4 nf=2 ad='int((nf+1)/2) * W/nf * 0.29' as='int((nf+2)/2) * W/nf * 0.29'\n",
            "+ pd='2*int((nf+1)/2) * (W/nf + 0.29)' ps='2*int((nf+2)/2) * (W/nf + 0.29)' nrd='0.29 / W' nrs='0.29 / W' sa=0 sb=0 sd=0 mult=1 m=1\n",
            ".ends\n",
            "\n",
            ".GLOBAL GND\n",
            "**** begin user architecture code\n",
            "\n",
            "\n",
            "\n",
            "\n",
            "* ngspice commands\n",
            ".options savecurrents\n",
            "\n",
            ".control\n",
            "save all\n",
            "\n",
            "op\n",
            "remzerovec\n",
            "\n",
            "tran 100n 10u\n",
            "plot v(vout)\n",
            "\n",
            "\n",
            "meas tran trise_pulse TRIG v(vout) VAL=0.1*1.8 RISE=1 TARG v(vout) VAL=0.9*1.8 RISE=1\n",
            "let slew_rate = 0\n",
            "slew_rate = 0.8*1.8/trise_pulse\n",
            "print slew_rate > opamp_specs.txt\n",
            "let power_consumption = -@V8[i]*v(VDD)\n",
            "meas tran power_average AVG power_consumption from=0u to=10u\n",
            "print power_average >> opamp_specs.txt\n",
            "write top_level.out\n",
            "\n",
            "set appendwrite\n",
            "set units=degrees\n",
            "dc V6 0 1.8 0.01\n",
            "remzerovec\n",
            "write top_level.out\n",
            "\n",
            "ac dec 10 1 1e12\n",
            "let gain = v(vout)/(v(vin_p)-v(vin_n))\n",
            "\n",
            "; Measurement of OpAmp performance parameters\n",
            "let AOL_DC_dB = 0\n",
            "meas ac AOL_DC_dB FIND vdb(gain) AT=10\n",
            "print AOL_DC_dB >> opamp_specs.txt\n",
            "let gain_3dB = AOL_DC_dB-3\n",
            "print gain_3dB\n",
            "let BW3dB = 0\n",
            "meas ac BW3dB when vdb(gain) = gain_3dB\n",
            "print BW3dB >> opamp_specs.txt\n",
            "let UGBW = 0\n",
            "meas ac UGBW when vdb(gain) = 1\n",
            "print UGBW >> opamp_specs.txt\n",
            "meas ac Phase_Unity_Gain FIND vp(gain) AT=UGBW\n",
            "meas ac Zero_PM_Freq when vp(gain)=-175\n",
            "let Gain_Margin = 999\n",
            "meas ac Gain_Margin FIND vdb(gain) at=Zero_PM_Freq\n",
            "print Gain_margin >> opamp_specs.txt\n",
            "let Phase_Margin = -999\n",
            "Phase_Margin = 180+Phase_Unity_Gain\n",
            "print Phase_Margin >> opamp_specs.txt\n",
            "\n",
            "settype decibel gain\n",
            "plot vdb(gain) ylabel 'gain mag'\n",
            "plot cph(gain) ylabel 'gain phase'\n",
            "write top_level.out\n",
            ".endc\n",
            "\n",
            "\n",
            "**** end user architecture code\n",
            ".end\n",
            "\n"
          ]
        }
      ]
    },
    {
      "cell_type": "markdown",
      "source": [
        "## Parsing FET devices\n",
        "```\n",
        "Fet structure (both n and p):\n",
        "<inst_name> <drain> <gate> <source> <bulk> <cell_name>\n",
        "\n",
        "Example:\n",
        "XM1 vout Active_load_g VDD VDD sky130_fd_pr__pfet_01v8 ...\n",
        "```\n",
        "\n"
      ],
      "metadata": {
        "id": "1jbyK-ITuTpn"
      }
    },
    {
      "cell_type": "code",
      "source": [
        "def get_fet_devices(netlist_contents):\n",
        "\n",
        "  # Regular expression to extract FET devices (lines starting with XM)\n",
        "  regex = r'(?P<inst_name>\\w+\\d+)\\s(?P<drain>\\w+)\\s(?P<gate>\\w+)\\s(?P<source>\\w+)\\s(?P<bulk>\\w+)\\s(?P<cell_name>sky130_fd_pr__[np]fet_01v8)'\n",
        "\n",
        "  # Find all matching FET device lines\n",
        "  fet_devices = re.findall(regex, netlist_contents)\n",
        "\n",
        "  # Display the extracted FET devices\n",
        "  #for fet in fet_devices:\n",
        "  #    print(\"Inst_name\", fet[0])\n",
        "  #    print(\"Drain\", fet[1])\n",
        "  #    print(\"Gate\", fet[2])\n",
        "  #    print(\"Source\", fet[3])\n",
        "  #    print(\"Bulk\", fet[4])\n",
        "  #    print(\"Cell_name\", fet[5])\n",
        "  #    print(\"\")\n",
        "  return fet_devices\n",
        "\n",
        "defect_terminal_dict = {\n",
        "  \"Drain\": 1,\n",
        "  \"Gate\": 2,\n",
        "  \"Source\": 3,\n",
        "  \"Bulk\": 4,\n",
        "}"
      ],
      "metadata": {
        "id": "uLMJydhBLwG7"
      },
      "execution_count": 49,
      "outputs": []
    },
    {
      "cell_type": "markdown",
      "source": [
        "## Add Open Defect to SPICE netlist\n"
      ],
      "metadata": {
        "id": "BNb6Zejf1qoK"
      }
    },
    {
      "cell_type": "code",
      "source": [
        "def modify_nelist_open_defect(netlist, fet_device_terminals, defect_device, defect_terminal_name):\n",
        "\n",
        "  # Get terminal number\n",
        "  defect_terminal_num = defect_terminal_dict[defect_terminal_name]\n",
        "  defect_terminal_netname = fet_device_terminals[defect_terminal_num]\n",
        "\n",
        "  # Create 2 additional nets to replace original connected to device terminal\n",
        "  defect_terminal_netname_replaced_1 = \"{}1\".format(defect_terminal_netname)\n",
        "  defect_terminal_netname_replaced_2 = \"{}2\".format(defect_terminal_netname)\n",
        "  defect_terminal_netname_replaced_3 = \"{}3\".format(defect_terminal_netname)\n",
        "\n",
        "  fet_device_terminals_copy = fet_device_terminals.copy()\n",
        "  # String of original device terminals\n",
        "  original_device_terminals = \" \".join(fet_device_terminals_copy)\n",
        "\n",
        "  fet_device_terminals_copy[defect_terminal_num] = defect_terminal_netname_replaced_1\n",
        "\n",
        "  # String of modified device terminals\n",
        "  modified_device_terminals = \" \".join(fet_device_terminals_copy)\n",
        "\n",
        "  print(\"Open at\", defect_terminal_name, fet_device_terminals_copy)\n",
        "\n",
        "  # Replace device terminals\n",
        "  modified_netlist = re.sub(original_device_terminals, modified_device_terminals, netlist)\n",
        "  # Replace remain occurances of net\n",
        "  modified_netlist = re.sub(r\"\\b{}\\b\".format(defect_terminal_netname), defect_terminal_netname_replaced_2, modified_netlist)\n",
        "\n",
        "  if (defect_terminal_name == \"Drain\"):\n",
        "    # Model open defect by adding a resistor\n",
        "    modified_netlist = re.sub(\"[\\*]{2}.ends\", \"R_drain_open {} {} 1G m=1 \\n**.ends\"\n",
        "      .format(defect_terminal_netname_replaced_1, defect_terminal_netname_replaced_2),\n",
        "                              modified_netlist, count=1)\n",
        "  elif (defect_terminal_name == \"Source\"):\n",
        "    # Model open defect by adding a resistor\n",
        "    modified_netlist= re.sub(\"[\\*]{2}.ends\", \"R_source_open {} {} 1G m=1 \\n**.ends\"\n",
        "      .format(defect_terminal_netname_replaced_1, defect_terminal_netname_replaced_2),\n",
        "                              modified_netlist, count=1)\n",
        "  elif (defect_terminal_name == \"Gate\"):\n",
        "    # Model open defect for gate by adding a resistor network\n",
        "    modified_netlist = re.sub(\"[\\*]{2}.ends\", \"R_gate1_drain_open {gate1} {drain} 0.5T m=1 \\nR_gate1_source_open {gate1} {source} 0.5T m=1 \\nR_gate1_gate_open {gate1} {gate} 1T m=1 \\nR_gate1_gate2_open {gate1} {gate2} 100T m=1 \\n**.ends\"\n",
        "      .format(gate=defect_terminal_netname_replaced_1, gate2=defect_terminal_netname_replaced_2, gate1=defect_terminal_netname_replaced_3, drain=fet_device_terminals_copy[1], source=fet_device_terminals_copy[3]),\n",
        "                              modified_netlist, count=1)\n",
        "\n",
        "  return modified_netlist\n",
        "\n",
        "def modify_nelist_short_defect(netlist, fet_device_terminals, defect_device, defect_terminal_name_1, defect_terminal_name_2):\n",
        "\n",
        "  print(\"Short at\", defect_terminal_name_1, \"-\", defect_terminal_name_2, fet_device_terminals)\n",
        "\n",
        "  # Get terminal number\n",
        "  defect_terminal_num_1 = defect_terminal_dict[defect_terminal_name_1]\n",
        "  defect_terminal_netname_1 = fet_device_terminals[defect_terminal_num_1]\n",
        "  defect_terminal_num_2 = defect_terminal_dict[defect_terminal_name_2]\n",
        "  defect_terminal_netname_2 = fet_device_terminals[defect_terminal_num_2]\n",
        "\n",
        "  if ((defect_terminal_name_1 == \"Drain\" and defect_terminal_name_2 == \"Source\") \\\n",
        "      or (defect_terminal_name_1 == \"Source\" and defect_terminal_name_2 == \"Drain\")):\n",
        "    # Model open defect by adding a resistor\n",
        "    modified_netlist = re.sub(\"[\\*]{2}.ends\", \"R_drain_source_short {} {} 10 m=1 \\n**.ends\"\n",
        "      .format(defect_terminal_netname_1, defect_terminal_netname_2),\n",
        "                              netlist, count=1)\n",
        "\n",
        "  elif ((defect_terminal_name_1 == \"Gate\" and defect_terminal_name_2 == \"Drain\") \\\n",
        "        or (defect_terminal_name_1 == \"Drain\" and defect_terminal_name_2 == \"Source\")):\n",
        "    # Model open defect by adding a resistor\n",
        "    modified_netlist = re.sub(\"[\\*]{2}.ends\", \"R_gate_drain_short {} {} 10 m=1 \\n**.ends\"\n",
        "      .format(defect_terminal_netname_1, defect_terminal_netname_2),\n",
        "                              netlist, count=1)\n",
        "\n",
        "  elif ((defect_terminal_name_1 == \"Gate\" and defect_terminal_name_2 == \"Source\") \\\n",
        "        or (defect_terminal_name_1 == \"Source\" and defect_terminal_name_2 == \"Gate\")):\n",
        "    # Model open defect by adding a resistor\n",
        "    modified_netlist = re.sub(\"[\\*]{2}.ends\", \"R_gate_source_short {} {} 10 m=1 \\n**.ends\"\n",
        "      .format(defect_terminal_netname_1, defect_terminal_netname_2),\n",
        "                              netlist, count=1)\n",
        "\n",
        "  return modified_netlist"
      ],
      "metadata": {
        "id": "Xplva7gR-Xhp"
      },
      "execution_count": 50,
      "outputs": []
    },
    {
      "cell_type": "code",
      "source": [
        "def generate_spice_netlists(netlist, defect_type, fet_device_terminals, defect_device_num, defect_terminal_name_1, defect_terminal_name_2):\n",
        "\n",
        "  if (defect_type == \"Open\"):\n",
        "    modified_netlist_contents = modify_nelist_open_defect(netlist, fet_device_terminals, defect_device_num, defect_terminal_name_1)\n",
        "    #print(modified_netlist_contents)\n",
        "  elif (defect_type == \"Short\"):\n",
        "    modified_netlist_contents = modify_nelist_short_defect(netlist, fet_device_terminals, defect_device_num, defect_terminal_name_1, defect_terminal_name_2)\n",
        "\n",
        "  modified_netlist_contents = re.sub(\"opamp_specs.txt\", \"opamp_specs_{}_{}_{}_{}_{}.txt\"\n",
        "      .format(defect_device_num,fet_device_terminals[0],defect_type,defect_terminal_name_1,defect_terminal_name_2),\n",
        "                              modified_netlist_contents)\n",
        "\n",
        "  # Open a file for writing modified netlist\n",
        "  with open(\"./generated_netlists/test_analog_{}_{}_{}_{}_{}.spice\"\n",
        "    .format(defect_device_num,fet_device_terminals[0],defect_type,defect_terminal_name_1,defect_terminal_name_2), \"w\") as file:\n",
        "      file.write(modified_netlist_contents)\n"
      ],
      "metadata": {
        "id": "_9dVaKRSaUqd"
      },
      "execution_count": 51,
      "outputs": []
    },
    {
      "cell_type": "code",
      "source": [
        "# Extract all fet devices from netlist\n",
        "fet_devices = get_fet_devices(netlist_contents)\n",
        "\n",
        "# Create netlists with defects injected\n",
        "for defect_device_num in range(0,len(fet_devices)-1):\n",
        "  fet_device_terminals = list(fet_devices[defect_device_num])\n",
        "  generate_spice_netlists(netlist_contents, \"Open\", fet_device_terminals, defect_device_num, defect_terminal_name_1=\"Drain\", defect_terminal_name_2=None)\n",
        "  generate_spice_netlists(netlist_contents, \"Open\", fet_device_terminals, defect_device_num, defect_terminal_name_1=\"Source\", defect_terminal_name_2=None)\n",
        "  generate_spice_netlists(netlist_contents, \"Open\", fet_device_terminals, defect_device_num, defect_terminal_name_1=\"Gate\", defect_terminal_name_2=None)\n",
        "  generate_spice_netlists(netlist_contents, \"Short\", fet_device_terminals, defect_device_num, defect_terminal_name_1=\"Drain\", defect_terminal_name_2=\"Source\")\n",
        "  generate_spice_netlists(netlist_contents, \"Short\", fet_device_terminals, defect_device_num, defect_terminal_name_1=\"Gate\", defect_terminal_name_2=\"Drain\")\n",
        "  generate_spice_netlists(netlist_contents, \"Short\", fet_device_terminals, defect_device_num, defect_terminal_name_1=\"Gate\", defect_terminal_name_2=\"Source\")"
      ],
      "metadata": {
        "colab": {
          "base_uri": "https://localhost:8080/"
        },
        "id": "PaLq2xc0IGU-",
        "outputId": "15e05282-95fe-4784-8bb8-e50d3ad97a78"
      },
      "execution_count": 52,
      "outputs": [
        {
          "output_type": "stream",
          "name": "stdout",
          "text": [
            "Open at Drain ['XM1', 'vout1', 'Active_load_g', 'VDD', 'VDD', 'sky130_fd_pr__pfet_01v8']\n",
            "Open at Source ['XM1', 'vout', 'Active_load_g', 'VDD1', 'VDD', 'sky130_fd_pr__pfet_01v8']\n",
            "Open at Gate ['XM1', 'vout', 'Active_load_g1', 'VDD', 'VDD', 'sky130_fd_pr__pfet_01v8']\n",
            "Short at Drain - Source ['XM1', 'vout', 'Active_load_g', 'VDD', 'VDD', 'sky130_fd_pr__pfet_01v8']\n",
            "Short at Gate - Drain ['XM1', 'vout', 'Active_load_g', 'VDD', 'VDD', 'sky130_fd_pr__pfet_01v8']\n",
            "Short at Gate - Source ['XM1', 'vout', 'Active_load_g', 'VDD', 'VDD', 'sky130_fd_pr__pfet_01v8']\n",
            "Open at Drain ['XM2', 'Active_load_g1', 'Active_load_g', 'VDD', 'VDD', 'sky130_fd_pr__pfet_01v8']\n",
            "Open at Source ['XM2', 'Active_load_g', 'Active_load_g', 'VDD1', 'VDD', 'sky130_fd_pr__pfet_01v8']\n",
            "Open at Gate ['XM2', 'Active_load_g', 'Active_load_g1', 'VDD', 'VDD', 'sky130_fd_pr__pfet_01v8']\n",
            "Short at Drain - Source ['XM2', 'Active_load_g', 'Active_load_g', 'VDD', 'VDD', 'sky130_fd_pr__pfet_01v8']\n",
            "Short at Gate - Drain ['XM2', 'Active_load_g', 'Active_load_g', 'VDD', 'VDD', 'sky130_fd_pr__pfet_01v8']\n",
            "Short at Gate - Source ['XM2', 'Active_load_g', 'Active_load_g', 'VDD', 'VDD', 'sky130_fd_pr__pfet_01v8']\n",
            "Open at Drain ['XM3', 'Active_load_g1', 'vin_p', 'I_mirror_d', 'VSS', 'sky130_fd_pr__nfet_01v8']\n",
            "Open at Source ['XM3', 'Active_load_g', 'vin_p', 'I_mirror_d1', 'VSS', 'sky130_fd_pr__nfet_01v8']\n",
            "Open at Gate ['XM3', 'Active_load_g', 'vin_p1', 'I_mirror_d', 'VSS', 'sky130_fd_pr__nfet_01v8']\n",
            "Short at Drain - Source ['XM3', 'Active_load_g', 'vin_p', 'I_mirror_d', 'VSS', 'sky130_fd_pr__nfet_01v8']\n",
            "Short at Gate - Drain ['XM3', 'Active_load_g', 'vin_p', 'I_mirror_d', 'VSS', 'sky130_fd_pr__nfet_01v8']\n",
            "Short at Gate - Source ['XM3', 'Active_load_g', 'vin_p', 'I_mirror_d', 'VSS', 'sky130_fd_pr__nfet_01v8']\n",
            "Open at Drain ['XM4', 'vout1', 'vin_n', 'I_mirror_d', 'VSS', 'sky130_fd_pr__nfet_01v8']\n",
            "Open at Source ['XM4', 'vout', 'vin_n', 'I_mirror_d1', 'VSS', 'sky130_fd_pr__nfet_01v8']\n",
            "Open at Gate ['XM4', 'vout', 'vin_n1', 'I_mirror_d', 'VSS', 'sky130_fd_pr__nfet_01v8']\n",
            "Short at Drain - Source ['XM4', 'vout', 'vin_n', 'I_mirror_d', 'VSS', 'sky130_fd_pr__nfet_01v8']\n",
            "Short at Gate - Drain ['XM4', 'vout', 'vin_n', 'I_mirror_d', 'VSS', 'sky130_fd_pr__nfet_01v8']\n",
            "Short at Gate - Source ['XM4', 'vout', 'vin_n', 'I_mirror_d', 'VSS', 'sky130_fd_pr__nfet_01v8']\n",
            "Open at Drain ['XM5', 'I_mirror_d1', 'I_mirror_g', 'VSS', 'VSS', 'sky130_fd_pr__nfet_01v8']\n",
            "Open at Source ['XM5', 'I_mirror_d', 'I_mirror_g', 'VSS1', 'VSS', 'sky130_fd_pr__nfet_01v8']\n",
            "Open at Gate ['XM5', 'I_mirror_d', 'I_mirror_g1', 'VSS', 'VSS', 'sky130_fd_pr__nfet_01v8']\n",
            "Short at Drain - Source ['XM5', 'I_mirror_d', 'I_mirror_g', 'VSS', 'VSS', 'sky130_fd_pr__nfet_01v8']\n",
            "Short at Gate - Drain ['XM5', 'I_mirror_d', 'I_mirror_g', 'VSS', 'VSS', 'sky130_fd_pr__nfet_01v8']\n",
            "Short at Gate - Source ['XM5', 'I_mirror_d', 'I_mirror_g', 'VSS', 'VSS', 'sky130_fd_pr__nfet_01v8']\n",
            "Open at Drain ['XM6', 'i_bias1', 'I_mirror_g', 'VSS', 'VSS', 'sky130_fd_pr__nfet_01v8']\n",
            "Open at Source ['XM6', 'i_bias', 'I_mirror_g', 'VSS1', 'VSS', 'sky130_fd_pr__nfet_01v8']\n",
            "Open at Gate ['XM6', 'i_bias', 'I_mirror_g1', 'VSS', 'VSS', 'sky130_fd_pr__nfet_01v8']\n",
            "Short at Drain - Source ['XM6', 'i_bias', 'I_mirror_g', 'VSS', 'VSS', 'sky130_fd_pr__nfet_01v8']\n",
            "Short at Gate - Drain ['XM6', 'i_bias', 'I_mirror_g', 'VSS', 'VSS', 'sky130_fd_pr__nfet_01v8']\n",
            "Short at Gate - Source ['XM6', 'i_bias', 'I_mirror_g', 'VSS', 'VSS', 'sky130_fd_pr__nfet_01v8']\n",
            "Open at Drain ['XM9', 'en_n1', 'en', 'VDD', 'VDD', 'sky130_fd_pr__pfet_01v8']\n",
            "Open at Source ['XM9', 'en_n', 'en', 'VDD1', 'VDD', 'sky130_fd_pr__pfet_01v8']\n",
            "Open at Gate ['XM9', 'en_n', 'en1', 'VDD', 'VDD', 'sky130_fd_pr__pfet_01v8']\n",
            "Short at Drain - Source ['XM9', 'en_n', 'en', 'VDD', 'VDD', 'sky130_fd_pr__pfet_01v8']\n",
            "Short at Gate - Drain ['XM9', 'en_n', 'en', 'VDD', 'VDD', 'sky130_fd_pr__pfet_01v8']\n",
            "Short at Gate - Source ['XM9', 'en_n', 'en', 'VDD', 'VDD', 'sky130_fd_pr__pfet_01v8']\n",
            "Open at Drain ['XM10', 'en_n1', 'en', 'VSS', 'VSS', 'sky130_fd_pr__nfet_01v8']\n",
            "Open at Source ['XM10', 'en_n', 'en', 'VSS1', 'VSS', 'sky130_fd_pr__nfet_01v8']\n",
            "Open at Gate ['XM10', 'en_n', 'en1', 'VSS', 'VSS', 'sky130_fd_pr__nfet_01v8']\n",
            "Short at Drain - Source ['XM10', 'en_n', 'en', 'VSS', 'VSS', 'sky130_fd_pr__nfet_01v8']\n",
            "Short at Gate - Drain ['XM10', 'en_n', 'en', 'VSS', 'VSS', 'sky130_fd_pr__nfet_01v8']\n",
            "Short at Gate - Source ['XM10', 'en_n', 'en', 'VSS', 'VSS', 'sky130_fd_pr__nfet_01v8']\n",
            "Open at Drain ['XM7', 'i_bias1', 'en', 'I_mirror_g', 'VSS', 'sky130_fd_pr__nfet_01v8']\n",
            "Open at Source ['XM7', 'i_bias', 'en', 'I_mirror_g1', 'VSS', 'sky130_fd_pr__nfet_01v8']\n",
            "Open at Gate ['XM7', 'i_bias', 'en1', 'I_mirror_g', 'VSS', 'sky130_fd_pr__nfet_01v8']\n",
            "Short at Drain - Source ['XM7', 'i_bias', 'en', 'I_mirror_g', 'VSS', 'sky130_fd_pr__nfet_01v8']\n",
            "Short at Gate - Drain ['XM7', 'i_bias', 'en', 'I_mirror_g', 'VSS', 'sky130_fd_pr__nfet_01v8']\n",
            "Short at Gate - Source ['XM7', 'i_bias', 'en', 'I_mirror_g', 'VSS', 'sky130_fd_pr__nfet_01v8']\n",
            "Open at Drain ['XM8', 'I_mirror_g1', 'en_n', 'VSS', 'VSS', 'sky130_fd_pr__nfet_01v8']\n",
            "Open at Source ['XM8', 'I_mirror_g', 'en_n', 'VSS1', 'VSS', 'sky130_fd_pr__nfet_01v8']\n",
            "Open at Gate ['XM8', 'I_mirror_g', 'en_n1', 'VSS', 'VSS', 'sky130_fd_pr__nfet_01v8']\n",
            "Short at Drain - Source ['XM8', 'I_mirror_g', 'en_n', 'VSS', 'VSS', 'sky130_fd_pr__nfet_01v8']\n",
            "Short at Gate - Drain ['XM8', 'I_mirror_g', 'en_n', 'VSS', 'VSS', 'sky130_fd_pr__nfet_01v8']\n",
            "Short at Gate - Source ['XM8', 'I_mirror_g', 'en_n', 'VSS', 'VSS', 'sky130_fd_pr__nfet_01v8']\n"
          ]
        }
      ]
    },
    {
      "cell_type": "code",
      "source": [
        "# Code to replace string in all spice files\n",
        "# This was created to replace .lib path for netlists created locally\n",
        "# but should be unnecessary when generating all spice files on Jupyter\n",
        "import os\n",
        "def replace_string_in_spice_files(folder_path, original_pdk_path, final_pdk_path):\n",
        "\n",
        "  # Iterate over files in directory\n",
        "  for name in os.listdir(folder_path):\n",
        "    # Open file\n",
        "    with open(os.path.join(folder_path, name), 'r') as file:\n",
        "      # Read content of file\n",
        "      netlist = file.read()\n",
        "\n",
        "    modified_netlist = re.sub(original_pdk_path, final_pdk_path, netlist)\n",
        "\n",
        "    with open(os.path.join(folder_path, name), 'w') as file:\n",
        "      file.write(modified_netlist)\n",
        "\n",
        "replace_string_in_spice_files(\"/content/generated_netlists\", \"/usr/local/share/pdk/sky130A/\", \"/foss/pdks/sky130A/\")"
      ],
      "metadata": {
        "id": "W06cjX1zNS8d"
      },
      "execution_count": 55,
      "outputs": []
    },
    {
      "cell_type": "code",
      "source": [
        "# Download generated netlists\n",
        "!zip -r generated_netlists.zip /content/generated_netlists\n",
        "\n",
        "from google.colab import files\n",
        "files.download(\"/content/generated_netlists.zip\")"
      ],
      "metadata": {
        "id": "ckTzEyPJH1Sh",
        "colab": {
          "base_uri": "https://localhost:8080/",
          "height": 1000
        },
        "outputId": "d4821f1b-601d-454e-837c-8964444ace10"
      },
      "execution_count": 54,
      "outputs": [
        {
          "output_type": "stream",
          "name": "stdout",
          "text": [
            "updating: content/generated_netlists/ (stored 0%)\n",
            "updating: content/generated_netlists/test_analog_4_XM5_Open_Gate_None.spice (deflated 76%)\n",
            "updating: content/generated_netlists/test_analog_6_XM9_Open_Drain_None.spice (deflated 76%)\n",
            "updating: content/generated_netlists/test_analog_5_XM6_Open_Source_None.spice (deflated 77%)\n",
            "updating: content/generated_netlists/test_analog_2_XM3_Short_Gate_Source.spice (deflated 77%)\n",
            "updating: content/generated_netlists/test_analog_7_XM10_Short_Gate_Drain.spice (deflated 76%)\n",
            "updating: content/generated_netlists/test_analog_5_XM6_Open_Gate_None.spice (deflated 76%)\n",
            "updating: content/generated_netlists/test_analog_2_XM3_Open_Drain_None.spice (deflated 77%)\n",
            "updating: content/generated_netlists/test_analog_3_XM4_Short_Gate_Source.spice (deflated 76%)\n",
            "updating: content/generated_netlists/test_analog_4_XM5_Short_Gate_Drain.spice (deflated 76%)\n",
            "updating: content/generated_netlists/test_analog_2_XM3_Short_Gate_Drain.spice (deflated 76%)\n",
            "updating: content/generated_netlists/test_analog_8_XM7_Short_Drain_Source.spice (deflated 76%)\n",
            "updating: content/generated_netlists/test_analog_6_XM9_Short_Drain_Source.spice (deflated 77%)\n",
            "updating: content/generated_netlists/test_analog_3_XM4_Open_Source_None.spice (deflated 77%)\n",
            "updating: content/generated_netlists/test_analog_2_XM3_Open_Source_None.spice (deflated 77%)\n",
            "updating: content/generated_netlists/test_analog_5_XM6_Short_Gate_Source.spice (deflated 76%)\n",
            "updating: content/generated_netlists/test_analog_9_XM8_Short_Gate_Source.spice (deflated 77%)\n",
            "updating: content/generated_netlists/test_analog_1_XM2_Short_Gate_Drain.spice (deflated 76%)\n",
            "updating: content/generated_netlists/test_analog_0_XM1_Open_Gate_None.spice (deflated 77%)\n",
            "updating: content/generated_netlists/test_analog_7_XM10_Open_Drain_None.spice (deflated 77%)\n",
            "updating: content/generated_netlists/test_analog_8_XM7_Open_Gate_None.spice (deflated 76%)\n",
            "updating: content/generated_netlists/test_analog_9_XM8_Open_Drain_None.spice (deflated 76%)\n",
            "updating: content/generated_netlists/test_analog_4_XM5_Short_Drain_Source.spice (deflated 77%)\n",
            "updating: content/generated_netlists/test_analog_5_XM6_Short_Drain_Source.spice (deflated 77%)\n",
            "updating: content/generated_netlists/test_analog_6_XM9_Short_Gate_Source.spice (deflated 76%)\n",
            "updating: content/generated_netlists/test_analog_0_XM1_Short_Gate_Source.spice (deflated 77%)\n",
            "updating: content/generated_netlists/test_analog_7_XM10_Short_Drain_Source.spice (deflated 77%)\n",
            "updating: content/generated_netlists/test_analog_9_XM8_Open_Source_None.spice (deflated 77%)\n",
            "updating: content/generated_netlists/test_analog_4_XM5_Short_Gate_Source.spice (deflated 76%)\n",
            "updating: content/generated_netlists/test_analog_2_XM3_Short_Drain_Source.spice (deflated 77%)\n",
            "updating: content/generated_netlists/test_analog_8_XM7_Open_Source_None.spice (deflated 77%)\n",
            "updating: content/generated_netlists/test_analog_7_XM10_Open_Gate_None.spice (deflated 76%)\n",
            "updating: content/generated_netlists/test_analog_7_XM10_Short_Gate_Source.spice (deflated 76%)\n",
            "updating: content/generated_netlists/test_analog_7_XM10_Open_Source_None.spice (deflated 77%)\n",
            "updating: content/generated_netlists/test_analog_1_XM2_Open_Gate_None.spice (deflated 77%)\n",
            "updating: content/generated_netlists/test_analog_6_XM9_Short_Gate_Drain.spice (deflated 76%)\n",
            "updating: content/generated_netlists/test_analog_4_XM5_Open_Drain_None.spice (deflated 77%)\n",
            "updating: content/generated_netlists/test_analog_0_XM1_Short_Gate_Drain.spice (deflated 76%)\n",
            "updating: content/generated_netlists/test_analog_1_XM2_Short_Drain_Source.spice (deflated 77%)\n",
            "updating: content/generated_netlists/test_analog_8_XM7_Open_Drain_None.spice (deflated 77%)\n",
            "updating: content/generated_netlists/test_analog_3_XM4_Short_Gate_Drain.spice (deflated 76%)\n",
            "updating: content/generated_netlists/test_analog_9_XM8_Short_Gate_Drain.spice (deflated 76%)\n",
            "updating: content/generated_netlists/test_analog_0_XM1_Short_Drain_Source.spice (deflated 77%)\n",
            "updating: content/generated_netlists/test_analog_1_XM2_Open_Drain_None.spice (deflated 77%)\n",
            "updating: content/generated_netlists/test_analog_3_XM4_Open_Gate_None.spice (deflated 76%)\n",
            "updating: content/generated_netlists/test_analog_5_XM6_Open_Drain_None.spice (deflated 77%)\n",
            "updating: content/generated_netlists/test_analog_8_XM7_Short_Gate_Drain.spice (deflated 76%)\n",
            "updating: content/generated_netlists/test_analog_2_XM3_Open_Gate_None.spice (deflated 76%)\n",
            "updating: content/generated_netlists/test_analog_3_XM4_Short_Drain_Source.spice (deflated 77%)\n",
            "updating: content/generated_netlists/test_analog_1_XM2_Short_Gate_Source.spice (deflated 77%)\n",
            "updating: content/generated_netlists/test_analog_4_XM5_Open_Source_None.spice (deflated 77%)\n",
            "updating: content/generated_netlists/test_analog_1_XM2_Open_Source_None.spice (deflated 77%)\n",
            "updating: content/generated_netlists/test_analog_5_XM6_Short_Gate_Drain.spice (deflated 76%)\n",
            "updating: content/generated_netlists/test_analog_9_XM8_Open_Gate_None.spice (deflated 76%)\n",
            "updating: content/generated_netlists/test_analog_9_XM8_Short_Drain_Source.spice (deflated 77%)\n",
            "updating: content/generated_netlists/test_analog_0_XM1_Open_Source_None.spice (deflated 77%)\n",
            "updating: content/generated_netlists/test_analog_8_XM7_Short_Gate_Source.spice (deflated 76%)\n",
            "updating: content/generated_netlists/test_analog_0_XM1_Open_Drain_None.spice (deflated 77%)\n",
            "updating: content/generated_netlists/test_analog_6_XM9_Open_Source_None.spice (deflated 77%)\n",
            "updating: content/generated_netlists/test_analog_6_XM9_Open_Gate_None.spice (deflated 76%)\n",
            "updating: content/generated_netlists/test_analog_3_XM4_Open_Drain_None.spice (deflated 77%)\n"
          ]
        },
        {
          "output_type": "display_data",
          "data": {
            "text/plain": [
              "<IPython.core.display.Javascript object>"
            ],
            "application/javascript": [
              "\n",
              "    async function download(id, filename, size) {\n",
              "      if (!google.colab.kernel.accessAllowed) {\n",
              "        return;\n",
              "      }\n",
              "      const div = document.createElement('div');\n",
              "      const label = document.createElement('label');\n",
              "      label.textContent = `Downloading \"${filename}\": `;\n",
              "      div.appendChild(label);\n",
              "      const progress = document.createElement('progress');\n",
              "      progress.max = size;\n",
              "      div.appendChild(progress);\n",
              "      document.body.appendChild(div);\n",
              "\n",
              "      const buffers = [];\n",
              "      let downloaded = 0;\n",
              "\n",
              "      const channel = await google.colab.kernel.comms.open(id);\n",
              "      // Send a message to notify the kernel that we're ready.\n",
              "      channel.send({})\n",
              "\n",
              "      for await (const message of channel.messages) {\n",
              "        // Send a message to notify the kernel that we're ready.\n",
              "        channel.send({})\n",
              "        if (message.buffers) {\n",
              "          for (const buffer of message.buffers) {\n",
              "            buffers.push(buffer);\n",
              "            downloaded += buffer.byteLength;\n",
              "            progress.value = downloaded;\n",
              "          }\n",
              "        }\n",
              "      }\n",
              "      const blob = new Blob(buffers, {type: 'application/binary'});\n",
              "      const a = document.createElement('a');\n",
              "      a.href = window.URL.createObjectURL(blob);\n",
              "      a.download = filename;\n",
              "      div.appendChild(a);\n",
              "      a.click();\n",
              "      div.remove();\n",
              "    }\n",
              "  "
            ]
          },
          "metadata": {}
        },
        {
          "output_type": "display_data",
          "data": {
            "text/plain": [
              "<IPython.core.display.Javascript object>"
            ],
            "application/javascript": [
              "download(\"download_c3b52c8f-e5d6-4a6f-b82e-8d2a5c7e0dd4\", \"generated_netlists.zip\", 94358)"
            ]
          },
          "metadata": {}
        }
      ]
    },
    {
      "cell_type": "code",
      "source": [],
      "metadata": {
        "id": "QVmnSviQGSO7"
      },
      "execution_count": 45,
      "outputs": []
    }
  ]
}