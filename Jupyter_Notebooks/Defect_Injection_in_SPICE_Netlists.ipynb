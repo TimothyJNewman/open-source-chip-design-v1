{
  "nbformat": 4,
  "nbformat_minor": 0,
  "metadata": {
    "colab": {
      "provenance": []
    },
    "kernelspec": {
      "name": "python3",
      "display_name": "Python 3"
    },
    "language_info": {
      "name": "python"
    }
  },
  "cells": [
    {
      "cell_type": "markdown",
      "source": [
        "# Defect Injection in SPICE Netlists\n",
        "This Jupyter Notebook was created to explore injecting defects into SPICE netlists based in the IEEE P2427 framework.\n",
        "\n",
        "It involves the following process:\n",
        "\n",
        "1.   Devices and nodes are in the netlist are parsed.\n",
        "2.   Defects are added into the netlist. These are modelled as large parameter changes, shorts or opens.\n",
        "3.   The netlist is simulated and performance parameters are measured. If the performance parameters fall outside of the expected range, they are classified as failures.\n",
        "4. Defect coverage is determined based in the percentage of defects detected by the tests."
      ],
      "metadata": {
        "id": "SBSPNcFsKbnJ"
      }
    },
    {
      "cell_type": "code",
      "source": [
        "# Import modules\n",
        "import re"
      ],
      "metadata": {
        "id": "NQ52NGuyzcGY"
      },
      "execution_count": null,
      "outputs": []
    },
    {
      "cell_type": "markdown",
      "source": [
        "## Example SPICE Netlist\n",
        "\n",
        "This netlist is a testbench for testing a simple 5 transistor OpAmp."
      ],
      "metadata": {
        "id": "clEIOj8-Ljsn"
      }
    },
    {
      "cell_type": "code",
      "source": [
        "# Download SPICE netlist from github\n",
        "spice_netlist_url = f\"https://raw.githubusercontent.com/TimothyJNewman/open-source-chip-design-v1/refs/heads/main/ISSCC_2025_V1/netlist/test_analog.spice\"\n",
        "!wget {spice_netlist_url}\n",
        "!mkdir generated_netlists"
      ],
      "metadata": {
        "id": "wg03XIwmRbTc",
        "colab": {
          "base_uri": "https://localhost:8080/"
        },
        "outputId": "59de2c16-3cd5-420a-b547-061f81b305ec"
      },
      "execution_count": null,
      "outputs": [
        {
          "output_type": "stream",
          "name": "stdout",
          "text": [
            "--2024-11-24 00:12:39--  https://raw.githubusercontent.com/TimothyJNewman/open-source-chip-design-v1/refs/heads/main/ISSCC_2025_V1/netlist/test_analog.spice\n",
            "Resolving raw.githubusercontent.com (raw.githubusercontent.com)... 185.199.109.133, 185.199.110.133, 185.199.111.133, ...\n",
            "Connecting to raw.githubusercontent.com (raw.githubusercontent.com)|185.199.109.133|:443... connected.\n",
            "HTTP request sent, awaiting response... 200 OK\n",
            "Length: 5226 (5.1K) [text/plain]\n",
            "Saving to: ‘test_analog.spice.6’\n",
            "\n",
            "\rtest_analog.spice.6   0%[                    ]       0  --.-KB/s               \rtest_analog.spice.6 100%[===================>]   5.10K  --.-KB/s    in 0s      \n",
            "\n",
            "2024-11-24 00:12:39 (51.7 MB/s) - ‘test_analog.spice.6’ saved [5226/5226]\n",
            "\n",
            "mkdir: cannot create directory ‘generated_netlists’: File exists\n"
          ]
        }
      ]
    },
    {
      "cell_type": "code",
      "source": [
        "# Open SPICE netlist\n",
        "with open(\"test_analog.spice\", \"r\") as netlist_file:\n",
        "  netlist_contents = netlist_file.read()\n",
        "\n",
        "# Print file in terminal\n",
        "  print(netlist_contents)"
      ],
      "metadata": {
        "colab": {
          "base_uri": "https://localhost:8080/"
        },
        "id": "xnxBaYyhLPzv",
        "outputId": "f2477cd2-3551-4851-89c7-dbe986f6f0e0"
      },
      "execution_count": null,
      "outputs": [
        {
          "output_type": "stream",
          "name": "stdout",
          "text": [
            "** sch_path: /home/timothyjabez/Documents/Open_Source_Circuit_Design/ISSCC_2025_V1/xschem/Benchmark_Circuits/test_analog/test_analog.sch\n",
            "**.subckt test_analog\n",
            "V6 vin_p GND 0.9 dc 0.9 ac 1 pulse(0 1 100p 100p 100p 1u 2u)\n",
            "V7 vin_n GND 0.9\n",
            "V8 VDD GND 1.8\n",
            "V9 VSS GND 0\n",
            "I0 VSS i_bias 10u\n",
            "x1 VDD vout vin_p vin_n VSS i_bias en OpAmp\n",
            "V1 en GND 1.8\n",
            "C1 vout GND 1p m=1\n",
            "**** begin user architecture code\n",
            ".lib /usr/local/share/pdk/sky130B/libs.tech/combined/sky130.lib.spice tt\n",
            "**** end user architecture code\n",
            "**.ends\n",
            "\n",
            "* expanding   symbol:  Benchmark_Circuits/OpAmp_Defect/OpAmp.sym # of pins=7\n",
            "** sym_path: /home/timothyjabez/Documents/Open_Source_Circuit_Design/ISSCC_2025_V1/xschem/Benchmark_Circuits/OpAmp_Defect/OpAmp.sym\n",
            "** sch_path: /home/timothyjabez/Documents/Open_Source_Circuit_Design/ISSCC_2025_V1/xschem/Benchmark_Circuits/OpAmp_Defect/OpAmp.sch\n",
            ".subckt OpAmp VDD vout vin_p vin_n VSS i_bias en\n",
            "*.ipin vin_p\n",
            "*.ipin vin_n\n",
            "*.iopin VSS\n",
            "*.iopin VDD\n",
            "*.opin vout\n",
            "*.ipin i_bias\n",
            "*.ipin en\n",
            "XM1 vout Active_load_g VDD VDD sky130_fd_pr__pfet_01v8 L=1 W=8 nf=2 ad='int((nf+1)/2) * W/nf * 0.29' as='int((nf+2)/2) * W/nf * 0.29'\n",
            "+ pd='2*int((nf+1)/2) * (W/nf + 0.29)' ps='2*int((nf+2)/2) * (W/nf + 0.29)' nrd='0.29 / W' nrs='0.29 / W' sa=0 sb=0 sd=0 mult=1 m=1\n",
            "XM2 Active_load_g Active_load_g VDD VDD sky130_fd_pr__pfet_01v8 L=1 W=8 nf=2 ad='int((nf+1)/2) * W/nf * 0.29' as='int((nf+2)/2) * W/nf * 0.29'\n",
            "+ pd='2*int((nf+1)/2) * (W/nf + 0.29)' ps='2*int((nf+2)/2) * (W/nf + 0.29)' nrd='0.29 / W' nrs='0.29 / W' sa=0 sb=0 sd=0 mult=1 m=1\n",
            "XM3 Active_load_g vin_p I_mirror_d VSS sky130_fd_pr__nfet_01v8 L=0.5 W=16 nf=4 ad='int((nf+1)/2) * W/nf * 0.29' as='int((nf+2)/2) * W/nf * 0.29'\n",
            "+ pd='2*int((nf+1)/2) * (W/nf + 0.29)' ps='2*int((nf+2)/2) * (W/nf + 0.29)' nrd='0.29 / W' nrs='0.29 / W' sa=0 sb=0 sd=0 mult=1 m=1\n",
            "XM4 vout vin_n I_mirror_d VSS sky130_fd_pr__nfet_01v8 L=0.5 W=16 nf=4 ad='int((nf+1)/2) * W/nf * 0.29' as='int((nf+2)/2) * W/nf * 0.29'\n",
            "+ pd='2*int((nf+1)/2) * (W/nf + 0.29)' ps='2*int((nf+2)/2) * (W/nf + 0.29)' nrd='0.29 / W' nrs='0.29 / W' sa=0 sb=0 sd=0 mult=1 m=1\n",
            "XM5 I_mirror_d I_mirror_g VSS VSS sky130_fd_pr__nfet_01v8 L=1 W=8 nf=2 ad='int((nf+1)/2) * W/nf * 0.29' as='int((nf+2)/2) * W/nf * 0.29'\n",
            "+ pd='2*int((nf+1)/2) * (W/nf + 0.29)' ps='2*int((nf+2)/2) * (W/nf + 0.29)' nrd='0.29 / W' nrs='0.29 / W' sa=0 sb=0 sd=0 mult=2 m=2\n",
            "XM6 i_bias I_mirror_g VSS VSS sky130_fd_pr__nfet_01v8 L=1 W=8 nf=2 ad='int((nf+1)/2) * W/nf * 0.29' as='int((nf+2)/2) * W/nf * 0.29'\n",
            "+ pd='2*int((nf+1)/2) * (W/nf + 0.29)' ps='2*int((nf+2)/2) * (W/nf + 0.29)' nrd='0.29 / W' nrs='0.29 / W' sa=0 sb=0 sd=0 mult=1 m=1\n",
            "XM9 en_n en VDD VDD sky130_fd_pr__pfet_01v8 L=0.15 W=2 nf=1 ad='int((nf+1)/2) * W/nf * 0.29' as='int((nf+2)/2) * W/nf * 0.29' pd='2*int((nf+1)/2) * (W/nf + 0.29)'\n",
            "+ ps='2*int((nf+2)/2) * (W/nf + 0.29)' nrd='0.29 / W' nrs='0.29 / W' sa=0 sb=0 sd=0 mult=1 m=1\n",
            "XM10 en_n en VSS VSS sky130_fd_pr__nfet_01v8 L=0.15 W=1 nf=1 ad='int((nf+1)/2) * W/nf * 0.29' as='int((nf+2)/2) * W/nf * 0.29' pd='2*int((nf+1)/2) * (W/nf + 0.29)'\n",
            "+ ps='2*int((nf+2)/2) * (W/nf + 0.29)' nrd='0.29 / W' nrs='0.29 / W' sa=0 sb=0 sd=0 mult=1 m=1\n",
            "XM7 i_bias en I_mirror_g VSS sky130_fd_pr__nfet_01v8 L=0.35 W=4 nf=2 ad='int((nf+1)/2) * W/nf * 0.29' as='int((nf+2)/2) * W/nf * 0.29'\n",
            "+ pd='2*int((nf+1)/2) * (W/nf + 0.29)' ps='2*int((nf+2)/2) * (W/nf + 0.29)' nrd='0.29 / W' nrs='0.29 / W' sa=0 sb=0 sd=0 mult=1 m=1\n",
            "XM8 I_mirror_g en_n VSS VSS sky130_fd_pr__nfet_01v8 L=0.35 W=4 nf=2 ad='int((nf+1)/2) * W/nf * 0.29' as='int((nf+2)/2) * W/nf * 0.29'\n",
            "+ pd='2*int((nf+1)/2) * (W/nf + 0.29)' ps='2*int((nf+2)/2) * (W/nf + 0.29)' nrd='0.29 / W' nrs='0.29 / W' sa=0 sb=0 sd=0 mult=1 m=1\n",
            "XM11 Active_load_g en VDD VDD sky130_fd_pr__pfet_01v8 L=0.35 W=4 nf=2 ad='int((nf+1)/2) * W/nf * 0.29' as='int((nf+2)/2) * W/nf * 0.29'\n",
            "+ pd='2*int((nf+1)/2) * (W/nf + 0.29)' ps='2*int((nf+2)/2) * (W/nf + 0.29)' nrd='0.29 / W' nrs='0.29 / W' sa=0 sb=0 sd=0 mult=1 m=1\n",
            "R_open R_open_p R_open_n 1G m=1\n",
            ".ends\n",
            "\n",
            ".GLOBAL GND\n",
            "**** begin user architecture code\n",
            "\n",
            "\n",
            "\n",
            "\n",
            "* ngspice commands\n",
            ".options savecurrents\n",
            "\n",
            ".control\n",
            "save all\n",
            "\n",
            "op\n",
            "remzerovec\n",
            "\n",
            "tran 100n 10u\n",
            "plot v(vout)\n",
            "\n",
            "meas tran trise_pulse TRIG v(vout) VAL=0.1*1.8 RISE=1 TARG v(vout) VAL=0.9*1.8 RISE=1\n",
            "let slew_rate = 0.8*1.8/trise_pulse\n",
            "print slew_rate > opamp_specs.txt\n",
            "let power_consumption = -@V8[i]*v(VDD)\n",
            "meas tran power_average AVG power_consumption from=0u to=10u\n",
            "print power_average >> opamp_specs.txt\n",
            "write top_level.out\n",
            "\n",
            "set appendwrite\n",
            "set units=degrees\n",
            "dc V6 0 1.8 0.01\n",
            "remzerovec\n",
            "write top_level.out\n",
            "\n",
            "ac dec 10 1 1e12\n",
            "let gain = v(vout)/(v(vin_p)-v(vin_n))\n",
            "\n",
            "; Measurement of OpAmp performance parameters\n",
            "meas ac AOL_DC_dB FIND vdb(gain) AT=10 >> opamp_specs.txt\n",
            "let gain_3dB = AOL_DC_dB-3\n",
            "print gain_3dB\n",
            "meas ac BW3dB when vdb(gain) = gain_3dB >> opamp_specs.txt\n",
            "meas ac UGBW when vdb(gain) = 1 >> opamp_specs.txt\n",
            "meas ac Phase_Unity_Gain FIND vp(gain) AT=UGBW >> opamp_specs.txt\n",
            "meas ac Zero_PM_Freq when vp(gain)=-175 >> opamp_specs.txt\n",
            "meas ac GM FIND vdb(gain) at=Zero_PM_Freq >> opamp_specs.txt\n",
            "let PM = 180+Phase_Unity_Gain\n",
            "print PM >> opamp_specs.txt\n",
            "\n",
            "settype decibel gain\n",
            "plot vdb(gain) ylabel 'gain mag'\n",
            "plot cph(gain) ylabel 'gain phase'\n",
            "write top_level.out\n",
            ".endc\n",
            "\n",
            "\n",
            "**** end user architecture code\n",
            ".end\n",
            "\n"
          ]
        }
      ]
    },
    {
      "cell_type": "markdown",
      "source": [
        "## Parsing FET devices\n",
        "```\n",
        "Fet structure (both n and p):\n",
        "<inst_name> <drain> <gate> <source> <bulk> <cell_name>\n",
        "\n",
        "Example:\n",
        "XM1 vout Active_load_g VDD VDD sky130_fd_pr__pfet_01v8 ...\n",
        "```\n",
        "\n"
      ],
      "metadata": {
        "id": "1jbyK-ITuTpn"
      }
    },
    {
      "cell_type": "code",
      "source": [
        "def get_fet_devices(netlist_contents):\n",
        "\n",
        "  # Regular expression to extract FET devices (lines starting with XM)\n",
        "  regex = r'(?P<inst_name>\\w+\\d+)\\s(?P<drain>\\w+)\\s(?P<gate>\\w+)\\s(?P<source>\\w+)\\s(?P<bulk>\\w+)\\s(?P<cell_name>sky130_fd_pr__[np]fet_01v8)'\n",
        "\n",
        "  # Find all matching FET device lines\n",
        "  fet_devices = re.findall(regex, netlist_contents)\n",
        "\n",
        "  # Display the extracted FET devices\n",
        "  #for fet in fet_devices:\n",
        "  #    print(\"Inst_name\", fet[0])\n",
        "  #    print(\"Drain\", fet[1])\n",
        "  #    print(\"Gate\", fet[2])\n",
        "  #    print(\"Source\", fet[3])\n",
        "  #    print(\"Bulk\", fet[4])\n",
        "  #    print(\"Cell_name\", fet[5])\n",
        "  #    print(\"\")\n",
        "  return fet_devices\n"
      ],
      "metadata": {
        "id": "uLMJydhBLwG7"
      },
      "execution_count": null,
      "outputs": []
    },
    {
      "cell_type": "markdown",
      "source": [
        "## Add Open Defect to SPICE netlist\n"
      ],
      "metadata": {
        "id": "BNb6Zejf1qoK"
      }
    },
    {
      "cell_type": "code",
      "source": [
        "def modify_nelist_open_defect(netlist_contents, fet_device_terminals, defect_device, defect_terminal_name, defect_terminal):\n",
        "#defect_device = 0\n",
        "#defect_terminal_name = \"Drain\"\n",
        "#defect_terminal = 1 # drain\n",
        "\n",
        "  inst_name = fet_device_terminals\n",
        "  defect_terminal_netname = fet_device_terminals[defect_terminal]\n",
        "\n",
        "  # Display the extracted FET devices\n",
        "  # print(\"Inst_name\", inst_name)\n",
        "  # print(defect_terminal_name, defect_terminal_netname)\n",
        "\n",
        "  # Create 2 additional nets to replace original connected to device terminal\n",
        "  defect_terminal_netname_replaced_1 = \"{}1\".format(defect_terminal_netname)\n",
        "  defect_terminal_netname_replaced_2 = \"{}2\".format(defect_terminal_netname)\n",
        "\n",
        "  # String of original device terminals\n",
        "  original_device_terminals = \" \".join(fet_device_terminals)\n",
        "\n",
        "  fet_device_terminals[defect_terminal] = defect_terminal_netname_replaced_1\n",
        "\n",
        "  # String of modified device terminals\n",
        "  modified_device_terminals = \" \".join(fet_device_terminals)\n",
        "\n",
        "  print(original_device_terminals)\n",
        "  print(modified_device_terminals)\n",
        "  print(\"\")\n",
        "\n",
        "  # Replace device terminals\n",
        "  modified_netlist_contents = re.sub(original_device_terminals, modified_device_terminals, netlist_contents)\n",
        "  # Replace remain occurances of net\n",
        "  modified_netlist_contents = re.sub(r\"\\b{}\\b\".format(defect_terminal_netname), defect_terminal_netname_replaced_2, modified_netlist_contents)\n",
        "  # Add open defect by adding a resistor\n",
        "  modified_netlist_contents = re.sub(\"[\\*]{2}.ends\", \"R_open {} {} 1G m=1 \\n**.ends\".format(defect_terminal_netname_replaced_1, defect_terminal_netname_replaced_2),\n",
        "                            modified_netlist_contents, count=1)\n",
        "\n",
        "  return modified_netlist_contents"
      ],
      "metadata": {
        "id": "Xplva7gR-Xhp"
      },
      "execution_count": null,
      "outputs": []
    },
    {
      "cell_type": "code",
      "source": [
        "def generate_spice_netlists(netlist_contents, fet_device_terminals, defect_device_num, defect_terminal_name, defect_terminal):\n",
        "\n",
        "  modified_netlist_contents = modify_nelist_open_defect(netlist_contents, fet_device_terminals, defect_device_num, defect_terminal_name, defect_terminal)\n",
        "  #print(modified_netlist_contents)\n",
        "\n",
        "  # Open a file for writing modified netlist\n",
        "  with open(\"./generated_netlists/test_analog_{}_{}_{}.spice\".format(defect_device_num,fet_device_terminals[0],defect_terminal_name), \"w\") as file:\n",
        "      file.write(modified_netlist_contents)"
      ],
      "metadata": {
        "id": "_9dVaKRSaUqd"
      },
      "execution_count": null,
      "outputs": []
    },
    {
      "cell_type": "code",
      "source": [
        "defect_terminal_name = \"Drain\"\n",
        "defect_terminal = 1\n",
        "\n",
        "fet_devices = get_fet_devices(netlist_contents)\n",
        "\n",
        "# Create netlists with defects injected\n",
        "for defect_device_num in range(0,len(fet_devices)-1):\n",
        "  fet_device_terminals = list(fet_devices[defect_device_num])\n",
        "  generate_spice_netlists(netlist_contents, fet_device_terminals, defect_device_num, defect_terminal_name, defect_terminal)"
      ],
      "metadata": {
        "colab": {
          "base_uri": "https://localhost:8080/"
        },
        "id": "PaLq2xc0IGU-",
        "outputId": "dec555d0-08c6-4c3e-9b87-86e3b75dec3b"
      },
      "execution_count": null,
      "outputs": [
        {
          "output_type": "stream",
          "name": "stdout",
          "text": [
            "XM1 vout Active_load_g VDD VDD sky130_fd_pr__pfet_01v8\n",
            "XM1 vout1 Active_load_g VDD VDD sky130_fd_pr__pfet_01v8\n",
            "\n",
            "XM2 Active_load_g Active_load_g VDD VDD sky130_fd_pr__pfet_01v8\n",
            "XM2 Active_load_g1 Active_load_g VDD VDD sky130_fd_pr__pfet_01v8\n",
            "\n",
            "XM3 Active_load_g vin_p I_mirror_d VSS sky130_fd_pr__nfet_01v8\n",
            "XM3 Active_load_g1 vin_p I_mirror_d VSS sky130_fd_pr__nfet_01v8\n",
            "\n",
            "XM4 vout vin_n I_mirror_d VSS sky130_fd_pr__nfet_01v8\n",
            "XM4 vout1 vin_n I_mirror_d VSS sky130_fd_pr__nfet_01v8\n",
            "\n",
            "XM5 I_mirror_d I_mirror_g VSS VSS sky130_fd_pr__nfet_01v8\n",
            "XM5 I_mirror_d1 I_mirror_g VSS VSS sky130_fd_pr__nfet_01v8\n",
            "\n",
            "XM6 i_bias I_mirror_g VSS VSS sky130_fd_pr__nfet_01v8\n",
            "XM6 i_bias1 I_mirror_g VSS VSS sky130_fd_pr__nfet_01v8\n",
            "\n",
            "XM9 en_n en VDD VDD sky130_fd_pr__pfet_01v8\n",
            "XM9 en_n1 en VDD VDD sky130_fd_pr__pfet_01v8\n",
            "\n",
            "XM10 en_n en VSS VSS sky130_fd_pr__nfet_01v8\n",
            "XM10 en_n1 en VSS VSS sky130_fd_pr__nfet_01v8\n",
            "\n",
            "XM7 i_bias en I_mirror_g VSS sky130_fd_pr__nfet_01v8\n",
            "XM7 i_bias1 en I_mirror_g VSS sky130_fd_pr__nfet_01v8\n",
            "\n",
            "XM8 I_mirror_g en_n VSS VSS sky130_fd_pr__nfet_01v8\n",
            "XM8 I_mirror_g1 en_n VSS VSS sky130_fd_pr__nfet_01v8\n",
            "\n"
          ]
        }
      ]
    },
    {
      "cell_type": "code",
      "source": [
        "# Print Modified Netlist\n",
        "# print(netlist_contents)"
      ],
      "metadata": {
        "id": "ckTzEyPJH1Sh"
      },
      "execution_count": null,
      "outputs": []
    },
    {
      "cell_type": "code",
      "source": [],
      "metadata": {
        "id": "cvyNEHhaN6z2"
      },
      "execution_count": null,
      "outputs": []
    }
  ]
}